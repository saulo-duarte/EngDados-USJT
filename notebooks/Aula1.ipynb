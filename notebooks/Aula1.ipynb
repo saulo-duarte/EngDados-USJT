{
 "cells": [
  {
   "cell_type": "markdown",
   "metadata": {},
   "source": [
    "# **Aula 1 Engenharia de Dados**\n",
    "\n",
    "### Objetivo:\n",
    "- Entender como os dados estão estruturados e as informações que eles contêm.\n",
    "- Qual é a relação entre os descontos aplicados e o valor total pago?\n",
    "- Como promoções impactam o valor total dos pedidos e as avaliações do cliente.\n",
    "- Como o tempo de entrega e o tempo de espera do entregador afetam a avaliação do cliente?"
   ]
  },
  {
   "cell_type": "code",
   "execution_count": 132,
   "metadata": {},
   "outputs": [],
   "source": [
    "import os\n",
    "\n",
    "import pandas as pd\n",
    "import kagglehub\n",
    "import seaborn as sns\n",
    "import matplotlib.pyplot as plt\n",
    "from matplotlib.gridspec import GridSpec"
   ]
  },
  {
   "cell_type": "markdown",
   "metadata": {},
   "source": [
    "### Lendo o arquivo utilizando a API do kaggle"
   ]
  },
  {
   "cell_type": "code",
   "execution_count": 133,
   "metadata": {},
   "outputs": [],
   "source": [
    "path = kagglehub.dataset_download(\"sujalsuthar/food-delivery-order-history-data\")\n",
    "files = os.listdir(path)\n",
    "csv_file = [file for file in files if file.endswith('.csv')][0]\n",
    "csv_path = os.path.join(path, csv_file)\n",
    "df = pd.read_csv(csv_path)"
   ]
  },
  {
   "cell_type": "code",
   "execution_count": 134,
   "metadata": {},
   "outputs": [
    {
     "data": {
      "text/html": [
       "<div>\n",
       "<style scoped>\n",
       "    .dataframe tbody tr th:only-of-type {\n",
       "        vertical-align: middle;\n",
       "    }\n",
       "\n",
       "    .dataframe tbody tr th {\n",
       "        vertical-align: top;\n",
       "    }\n",
       "\n",
       "    .dataframe thead th {\n",
       "        text-align: right;\n",
       "    }\n",
       "</style>\n",
       "<table border=\"1\" class=\"dataframe\">\n",
       "  <thead>\n",
       "    <tr style=\"text-align: right;\">\n",
       "      <th></th>\n",
       "      <th>Restaurant ID</th>\n",
       "      <th>Restaurant name</th>\n",
       "      <th>Subzone</th>\n",
       "      <th>City</th>\n",
       "      <th>Order ID</th>\n",
       "      <th>Order Placed At</th>\n",
       "      <th>Order Status</th>\n",
       "      <th>Delivery</th>\n",
       "      <th>Distance</th>\n",
       "      <th>Items in order</th>\n",
       "      <th>...</th>\n",
       "      <th>Rating</th>\n",
       "      <th>Review</th>\n",
       "      <th>Cancellation / Rejection reason</th>\n",
       "      <th>Restaurant compensation (Cancellation)</th>\n",
       "      <th>Restaurant penalty (Rejection)</th>\n",
       "      <th>KPT duration (minutes)</th>\n",
       "      <th>Rider wait time (minutes)</th>\n",
       "      <th>Order Ready Marked</th>\n",
       "      <th>Customer complaint tag</th>\n",
       "      <th>Customer ID</th>\n",
       "    </tr>\n",
       "  </thead>\n",
       "  <tbody>\n",
       "    <tr>\n",
       "      <th>0</th>\n",
       "      <td>20320607</td>\n",
       "      <td>Swaad</td>\n",
       "      <td>Sector 4</td>\n",
       "      <td>Delhi NCR</td>\n",
       "      <td>6168884918</td>\n",
       "      <td>11:38 PM, September 10 2024</td>\n",
       "      <td>Delivered</td>\n",
       "      <td>Zomato Delivery</td>\n",
       "      <td>3km</td>\n",
       "      <td>1 x Grilled Chicken Jamaican Tender, 1 x Grill...</td>\n",
       "      <td>...</td>\n",
       "      <td>NaN</td>\n",
       "      <td>NaN</td>\n",
       "      <td>NaN</td>\n",
       "      <td>NaN</td>\n",
       "      <td>NaN</td>\n",
       "      <td>18.35</td>\n",
       "      <td>11.6</td>\n",
       "      <td>Correctly</td>\n",
       "      <td>NaN</td>\n",
       "      <td>5d6c2b96db963098bc69768bea504c8bf46106a8a5178e...</td>\n",
       "    </tr>\n",
       "    <tr>\n",
       "      <th>1</th>\n",
       "      <td>20320607</td>\n",
       "      <td>Swaad</td>\n",
       "      <td>Sector 4</td>\n",
       "      <td>Delhi NCR</td>\n",
       "      <td>6170707559</td>\n",
       "      <td>11:34 PM, September 10 2024</td>\n",
       "      <td>Delivered</td>\n",
       "      <td>Zomato Delivery</td>\n",
       "      <td>2km</td>\n",
       "      <td>1 x Peri Peri Fries, 1 x Fried Chicken Angara ...</td>\n",
       "      <td>...</td>\n",
       "      <td>NaN</td>\n",
       "      <td>NaN</td>\n",
       "      <td>NaN</td>\n",
       "      <td>NaN</td>\n",
       "      <td>NaN</td>\n",
       "      <td>16.95</td>\n",
       "      <td>3.6</td>\n",
       "      <td>Correctly</td>\n",
       "      <td>NaN</td>\n",
       "      <td>0781815deb4a10a574e9fee4fa0b86b074d4a0b36175d5...</td>\n",
       "    </tr>\n",
       "    <tr>\n",
       "      <th>2</th>\n",
       "      <td>20320607</td>\n",
       "      <td>Swaad</td>\n",
       "      <td>Sector 4</td>\n",
       "      <td>Delhi NCR</td>\n",
       "      <td>6169375019</td>\n",
       "      <td>03:52 PM, September 10 2024</td>\n",
       "      <td>Delivered</td>\n",
       "      <td>Zomato Delivery</td>\n",
       "      <td>&lt;1km</td>\n",
       "      <td>1 x Bone in Peri Peri Grilled Chicken</td>\n",
       "      <td>...</td>\n",
       "      <td>NaN</td>\n",
       "      <td>NaN</td>\n",
       "      <td>NaN</td>\n",
       "      <td>NaN</td>\n",
       "      <td>NaN</td>\n",
       "      <td>14.05</td>\n",
       "      <td>12.2</td>\n",
       "      <td>Correctly</td>\n",
       "      <td>NaN</td>\n",
       "      <td>f93362f5ce5382657482d164e368186bcec9c6225fd93d...</td>\n",
       "    </tr>\n",
       "    <tr>\n",
       "      <th>3</th>\n",
       "      <td>20320607</td>\n",
       "      <td>Swaad</td>\n",
       "      <td>Sector 4</td>\n",
       "      <td>Delhi NCR</td>\n",
       "      <td>6151677434</td>\n",
       "      <td>03:45 PM, September 10 2024</td>\n",
       "      <td>Delivered</td>\n",
       "      <td>Zomato Delivery</td>\n",
       "      <td>2km</td>\n",
       "      <td>1 x Fried Chicken Ghostbuster Tender, 1 x Anga...</td>\n",
       "      <td>...</td>\n",
       "      <td>4.0</td>\n",
       "      <td>NaN</td>\n",
       "      <td>NaN</td>\n",
       "      <td>NaN</td>\n",
       "      <td>NaN</td>\n",
       "      <td>19.00</td>\n",
       "      <td>3.3</td>\n",
       "      <td>Correctly</td>\n",
       "      <td>NaN</td>\n",
       "      <td>1ed226d1b8a5f7acee12fc1d6676558330a3b2b742af5d...</td>\n",
       "    </tr>\n",
       "    <tr>\n",
       "      <th>4</th>\n",
       "      <td>20320607</td>\n",
       "      <td>Swaad</td>\n",
       "      <td>Sector 4</td>\n",
       "      <td>Delhi NCR</td>\n",
       "      <td>6167540897</td>\n",
       "      <td>03:04 PM, September 10 2024</td>\n",
       "      <td>Delivered</td>\n",
       "      <td>Zomato Delivery</td>\n",
       "      <td>2km</td>\n",
       "      <td>1 x Peri Peri Krispers, 1 x Fried Chicken Anga...</td>\n",
       "      <td>...</td>\n",
       "      <td>NaN</td>\n",
       "      <td>NaN</td>\n",
       "      <td>NaN</td>\n",
       "      <td>NaN</td>\n",
       "      <td>NaN</td>\n",
       "      <td>15.97</td>\n",
       "      <td>1.0</td>\n",
       "      <td>Correctly</td>\n",
       "      <td>NaN</td>\n",
       "      <td>d21a2ac6ea06b31cc3288ab20c4ef2f292066c096f2c5f...</td>\n",
       "    </tr>\n",
       "  </tbody>\n",
       "</table>\n",
       "<p>5 rows × 29 columns</p>\n",
       "</div>"
      ],
      "text/plain": [
       "   Restaurant ID Restaurant name   Subzone       City    Order ID  \\\n",
       "0       20320607           Swaad  Sector 4  Delhi NCR  6168884918   \n",
       "1       20320607           Swaad  Sector 4  Delhi NCR  6170707559   \n",
       "2       20320607           Swaad  Sector 4  Delhi NCR  6169375019   \n",
       "3       20320607           Swaad  Sector 4  Delhi NCR  6151677434   \n",
       "4       20320607           Swaad  Sector 4  Delhi NCR  6167540897   \n",
       "\n",
       "               Order Placed At Order Status         Delivery Distance  \\\n",
       "0  11:38 PM, September 10 2024    Delivered  Zomato Delivery      3km   \n",
       "1  11:34 PM, September 10 2024    Delivered  Zomato Delivery      2km   \n",
       "2  03:52 PM, September 10 2024    Delivered  Zomato Delivery     <1km   \n",
       "3  03:45 PM, September 10 2024    Delivered  Zomato Delivery      2km   \n",
       "4  03:04 PM, September 10 2024    Delivered  Zomato Delivery      2km   \n",
       "\n",
       "                                      Items in order  ... Rating Review  \\\n",
       "0  1 x Grilled Chicken Jamaican Tender, 1 x Grill...  ...    NaN    NaN   \n",
       "1  1 x Peri Peri Fries, 1 x Fried Chicken Angara ...  ...    NaN    NaN   \n",
       "2              1 x Bone in Peri Peri Grilled Chicken  ...    NaN    NaN   \n",
       "3  1 x Fried Chicken Ghostbuster Tender, 1 x Anga...  ...    4.0    NaN   \n",
       "4  1 x Peri Peri Krispers, 1 x Fried Chicken Anga...  ...    NaN    NaN   \n",
       "\n",
       "   Cancellation / Rejection reason  Restaurant compensation (Cancellation)  \\\n",
       "0                              NaN                                     NaN   \n",
       "1                              NaN                                     NaN   \n",
       "2                              NaN                                     NaN   \n",
       "3                              NaN                                     NaN   \n",
       "4                              NaN                                     NaN   \n",
       "\n",
       "   Restaurant penalty (Rejection)  KPT duration (minutes)  \\\n",
       "0                             NaN                   18.35   \n",
       "1                             NaN                   16.95   \n",
       "2                             NaN                   14.05   \n",
       "3                             NaN                   19.00   \n",
       "4                             NaN                   15.97   \n",
       "\n",
       "   Rider wait time (minutes)  Order Ready Marked  Customer complaint tag  \\\n",
       "0                       11.6           Correctly                     NaN   \n",
       "1                        3.6           Correctly                     NaN   \n",
       "2                       12.2           Correctly                     NaN   \n",
       "3                        3.3           Correctly                     NaN   \n",
       "4                        1.0           Correctly                     NaN   \n",
       "\n",
       "                                         Customer ID  \n",
       "0  5d6c2b96db963098bc69768bea504c8bf46106a8a5178e...  \n",
       "1  0781815deb4a10a574e9fee4fa0b86b074d4a0b36175d5...  \n",
       "2  f93362f5ce5382657482d164e368186bcec9c6225fd93d...  \n",
       "3  1ed226d1b8a5f7acee12fc1d6676558330a3b2b742af5d...  \n",
       "4  d21a2ac6ea06b31cc3288ab20c4ef2f292066c096f2c5f...  \n",
       "\n",
       "[5 rows x 29 columns]"
      ]
     },
     "execution_count": 134,
     "metadata": {},
     "output_type": "execute_result"
    }
   ],
   "source": [
    "df.head()"
   ]
  },
  {
   "cell_type": "code",
   "execution_count": 135,
   "metadata": {},
   "outputs": [
    {
     "name": "stdout",
     "output_type": "stream",
     "text": [
      "Formato do arquivo: 21321 linhas e 29 colunas\n"
     ]
    }
   ],
   "source": [
    "print(f\"Formato do arquivo: {df.shape[0]} linhas e {df.shape[1]} colunas\")"
   ]
  },
  {
   "cell_type": "code",
   "execution_count": 136,
   "metadata": {},
   "outputs": [
    {
     "name": "stdout",
     "output_type": "stream",
     "text": [
      "Colunas: Index(['Restaurant ID', 'Restaurant name', 'Subzone', 'City', 'Order ID',\n",
      "       'Order Placed At', 'Order Status', 'Delivery', 'Distance',\n",
      "       'Items in order', 'Instructions', 'Discount construct', 'Bill subtotal',\n",
      "       'Packaging charges', 'Restaurant discount (Promo)',\n",
      "       'Restaurant discount (Flat offs, Freebies & others)', 'Gold discount',\n",
      "       'Brand pack discount', 'Total', 'Rating', 'Review',\n",
      "       'Cancellation / Rejection reason',\n",
      "       'Restaurant compensation (Cancellation)',\n",
      "       'Restaurant penalty (Rejection)', 'KPT duration (minutes)',\n",
      "       'Rider wait time (minutes)', 'Order Ready Marked',\n",
      "       'Customer complaint tag', 'Customer ID'],\n",
      "      dtype='object')\n"
     ]
    }
   ],
   "source": [
    "print(f\"Colunas: {df.columns}\")"
   ]
  },
  {
   "cell_type": "markdown",
   "metadata": {},
   "source": [
    "Resumo estatístico das variáveis numéricas"
   ]
  },
  {
   "cell_type": "code",
   "execution_count": 137,
   "metadata": {},
   "outputs": [
    {
     "data": {
      "text/html": [
       "<div>\n",
       "<style scoped>\n",
       "    .dataframe tbody tr th:only-of-type {\n",
       "        vertical-align: middle;\n",
       "    }\n",
       "\n",
       "    .dataframe tbody tr th {\n",
       "        vertical-align: top;\n",
       "    }\n",
       "\n",
       "    .dataframe thead th {\n",
       "        text-align: right;\n",
       "    }\n",
       "</style>\n",
       "<table border=\"1\" class=\"dataframe\">\n",
       "  <thead>\n",
       "    <tr style=\"text-align: right;\">\n",
       "      <th></th>\n",
       "      <th>Restaurant ID</th>\n",
       "      <th>Order ID</th>\n",
       "      <th>Bill subtotal</th>\n",
       "      <th>Packaging charges</th>\n",
       "      <th>Restaurant discount (Promo)</th>\n",
       "      <th>Restaurant discount (Flat offs, Freebies &amp; others)</th>\n",
       "      <th>Gold discount</th>\n",
       "      <th>Brand pack discount</th>\n",
       "      <th>Total</th>\n",
       "      <th>Rating</th>\n",
       "      <th>Restaurant compensation (Cancellation)</th>\n",
       "      <th>Restaurant penalty (Rejection)</th>\n",
       "      <th>KPT duration (minutes)</th>\n",
       "      <th>Rider wait time (minutes)</th>\n",
       "    </tr>\n",
       "  </thead>\n",
       "  <tbody>\n",
       "    <tr>\n",
       "      <th>count</th>\n",
       "      <td>2.132100e+04</td>\n",
       "      <td>2.132100e+04</td>\n",
       "      <td>21321.000000</td>\n",
       "      <td>21321.000000</td>\n",
       "      <td>21321.000000</td>\n",
       "      <td>21321.000000</td>\n",
       "      <td>21321.000000</td>\n",
       "      <td>21321.000000</td>\n",
       "      <td>21321.000000</td>\n",
       "      <td>2491.000000</td>\n",
       "      <td>133.000000</td>\n",
       "      <td>3.0</td>\n",
       "      <td>21026.000000</td>\n",
       "      <td>21153.000000</td>\n",
       "    </tr>\n",
       "    <tr>\n",
       "      <th>mean</th>\n",
       "      <td>2.074413e+07</td>\n",
       "      <td>6.354622e+09</td>\n",
       "      <td>750.076838</td>\n",
       "      <td>32.564592</td>\n",
       "      <td>65.091816</td>\n",
       "      <td>31.795058</td>\n",
       "      <td>0.099128</td>\n",
       "      <td>3.039324</td>\n",
       "      <td>682.616113</td>\n",
       "      <td>4.356885</td>\n",
       "      <td>356.409549</td>\n",
       "      <td>0.0</td>\n",
       "      <td>17.332960</td>\n",
       "      <td>4.825070</td>\n",
       "    </tr>\n",
       "    <tr>\n",
       "      <th>std</th>\n",
       "      <td>2.447193e+05</td>\n",
       "      <td>1.230263e+08</td>\n",
       "      <td>498.759428</td>\n",
       "      <td>22.235898</td>\n",
       "      <td>85.401604</td>\n",
       "      <td>131.487091</td>\n",
       "      <td>3.264261</td>\n",
       "      <td>17.070780</td>\n",
       "      <td>465.313977</td>\n",
       "      <td>1.181472</td>\n",
       "      <td>328.128240</td>\n",
       "      <td>0.0</td>\n",
       "      <td>6.283388</td>\n",
       "      <td>4.982591</td>\n",
       "    </tr>\n",
       "    <tr>\n",
       "      <th>min</th>\n",
       "      <td>2.032061e+07</td>\n",
       "      <td>6.086767e+09</td>\n",
       "      <td>50.000000</td>\n",
       "      <td>0.000000</td>\n",
       "      <td>0.000000</td>\n",
       "      <td>0.000000</td>\n",
       "      <td>0.000000</td>\n",
       "      <td>0.000000</td>\n",
       "      <td>52.500000</td>\n",
       "      <td>1.000000</td>\n",
       "      <td>83.580000</td>\n",
       "      <td>0.0</td>\n",
       "      <td>0.000000</td>\n",
       "      <td>0.100000</td>\n",
       "    </tr>\n",
       "    <tr>\n",
       "      <th>25%</th>\n",
       "      <td>2.063570e+07</td>\n",
       "      <td>6.250751e+09</td>\n",
       "      <td>459.000000</td>\n",
       "      <td>18.450000</td>\n",
       "      <td>0.000000</td>\n",
       "      <td>0.000000</td>\n",
       "      <td>0.000000</td>\n",
       "      <td>0.000000</td>\n",
       "      <td>387.450000</td>\n",
       "      <td>4.000000</td>\n",
       "      <td>191.950000</td>\n",
       "      <td>0.0</td>\n",
       "      <td>13.380000</td>\n",
       "      <td>1.000000</td>\n",
       "    </tr>\n",
       "    <tr>\n",
       "      <th>50%</th>\n",
       "      <td>2.065987e+07</td>\n",
       "      <td>6.357715e+09</td>\n",
       "      <td>629.000000</td>\n",
       "      <td>28.450000</td>\n",
       "      <td>80.000000</td>\n",
       "      <td>0.000000</td>\n",
       "      <td>0.000000</td>\n",
       "      <td>0.000000</td>\n",
       "      <td>597.450000</td>\n",
       "      <td>5.000000</td>\n",
       "      <td>272.580000</td>\n",
       "      <td>0.0</td>\n",
       "      <td>16.330000</td>\n",
       "      <td>3.100000</td>\n",
       "    </tr>\n",
       "    <tr>\n",
       "      <th>75%</th>\n",
       "      <td>2.088265e+07</td>\n",
       "      <td>6.456827e+09</td>\n",
       "      <td>899.000000</td>\n",
       "      <td>39.950000</td>\n",
       "      <td>100.000000</td>\n",
       "      <td>0.000000</td>\n",
       "      <td>0.000000</td>\n",
       "      <td>0.000000</td>\n",
       "      <td>837.900000</td>\n",
       "      <td>5.000000</td>\n",
       "      <td>397.840000</td>\n",
       "      <td>0.0</td>\n",
       "      <td>20.050000</td>\n",
       "      <td>7.400000</td>\n",
       "    </tr>\n",
       "    <tr>\n",
       "      <th>max</th>\n",
       "      <td>2.152306e+07</td>\n",
       "      <td>6.573392e+09</td>\n",
       "      <td>16080.000000</td>\n",
       "      <td>603.000000</td>\n",
       "      <td>4020.000000</td>\n",
       "      <td>7787.000000</td>\n",
       "      <td>280.100000</td>\n",
       "      <td>554.800000</td>\n",
       "      <td>12663.000000</td>\n",
       "      <td>5.000000</td>\n",
       "      <td>3236.980000</td>\n",
       "      <td>0.0</td>\n",
       "      <td>90.870000</td>\n",
       "      <td>73.800000</td>\n",
       "    </tr>\n",
       "  </tbody>\n",
       "</table>\n",
       "</div>"
      ],
      "text/plain": [
       "       Restaurant ID      Order ID  Bill subtotal  Packaging charges  \\\n",
       "count   2.132100e+04  2.132100e+04   21321.000000       21321.000000   \n",
       "mean    2.074413e+07  6.354622e+09     750.076838          32.564592   \n",
       "std     2.447193e+05  1.230263e+08     498.759428          22.235898   \n",
       "min     2.032061e+07  6.086767e+09      50.000000           0.000000   \n",
       "25%     2.063570e+07  6.250751e+09     459.000000          18.450000   \n",
       "50%     2.065987e+07  6.357715e+09     629.000000          28.450000   \n",
       "75%     2.088265e+07  6.456827e+09     899.000000          39.950000   \n",
       "max     2.152306e+07  6.573392e+09   16080.000000         603.000000   \n",
       "\n",
       "       Restaurant discount (Promo)  \\\n",
       "count                 21321.000000   \n",
       "mean                     65.091816   \n",
       "std                      85.401604   \n",
       "min                       0.000000   \n",
       "25%                       0.000000   \n",
       "50%                      80.000000   \n",
       "75%                     100.000000   \n",
       "max                    4020.000000   \n",
       "\n",
       "       Restaurant discount (Flat offs, Freebies & others)  Gold discount  \\\n",
       "count                                       21321.000000    21321.000000   \n",
       "mean                                           31.795058        0.099128   \n",
       "std                                           131.487091        3.264261   \n",
       "min                                             0.000000        0.000000   \n",
       "25%                                             0.000000        0.000000   \n",
       "50%                                             0.000000        0.000000   \n",
       "75%                                             0.000000        0.000000   \n",
       "max                                          7787.000000      280.100000   \n",
       "\n",
       "       Brand pack discount         Total       Rating  \\\n",
       "count         21321.000000  21321.000000  2491.000000   \n",
       "mean              3.039324    682.616113     4.356885   \n",
       "std              17.070780    465.313977     1.181472   \n",
       "min               0.000000     52.500000     1.000000   \n",
       "25%               0.000000    387.450000     4.000000   \n",
       "50%               0.000000    597.450000     5.000000   \n",
       "75%               0.000000    837.900000     5.000000   \n",
       "max             554.800000  12663.000000     5.000000   \n",
       "\n",
       "       Restaurant compensation (Cancellation)  Restaurant penalty (Rejection)  \\\n",
       "count                              133.000000                             3.0   \n",
       "mean                               356.409549                             0.0   \n",
       "std                                328.128240                             0.0   \n",
       "min                                 83.580000                             0.0   \n",
       "25%                                191.950000                             0.0   \n",
       "50%                                272.580000                             0.0   \n",
       "75%                                397.840000                             0.0   \n",
       "max                               3236.980000                             0.0   \n",
       "\n",
       "       KPT duration (minutes)  Rider wait time (minutes)  \n",
       "count            21026.000000               21153.000000  \n",
       "mean                17.332960                   4.825070  \n",
       "std                  6.283388                   4.982591  \n",
       "min                  0.000000                   0.100000  \n",
       "25%                 13.380000                   1.000000  \n",
       "50%                 16.330000                   3.100000  \n",
       "75%                 20.050000                   7.400000  \n",
       "max                 90.870000                  73.800000  "
      ]
     },
     "execution_count": 137,
     "metadata": {},
     "output_type": "execute_result"
    }
   ],
   "source": [
    "df.describe()"
   ]
  },
  {
   "cell_type": "markdown",
   "metadata": {},
   "source": [
    "### Criando um subconjunto dos dados para anlisar o desempenho dos restaurantes"
   ]
  },
  {
   "cell_type": "code",
   "execution_count": 138,
   "metadata": {},
   "outputs": [
    {
     "data": {
      "text/html": [
       "<div>\n",
       "<style scoped>\n",
       "    .dataframe tbody tr th:only-of-type {\n",
       "        vertical-align: middle;\n",
       "    }\n",
       "\n",
       "    .dataframe tbody tr th {\n",
       "        vertical-align: top;\n",
       "    }\n",
       "\n",
       "    .dataframe thead th {\n",
       "        text-align: right;\n",
       "    }\n",
       "</style>\n",
       "<table border=\"1\" class=\"dataframe\">\n",
       "  <thead>\n",
       "    <tr style=\"text-align: right;\">\n",
       "      <th></th>\n",
       "      <th>Restaurant discount (Promo)</th>\n",
       "      <th>Restaurant discount (Flat offs, Freebies &amp; others)</th>\n",
       "      <th>Gold discount</th>\n",
       "      <th>Brand pack discount</th>\n",
       "      <th>Total</th>\n",
       "    </tr>\n",
       "  </thead>\n",
       "  <tbody>\n",
       "    <tr>\n",
       "      <th>0</th>\n",
       "      <td>80.0</td>\n",
       "      <td>0.0</td>\n",
       "      <td>0.0</td>\n",
       "      <td>0.0</td>\n",
       "      <td>666.75</td>\n",
       "    </tr>\n",
       "    <tr>\n",
       "      <th>1</th>\n",
       "      <td>175.0</td>\n",
       "      <td>0.0</td>\n",
       "      <td>0.0</td>\n",
       "      <td>0.0</td>\n",
       "      <td>1054.20</td>\n",
       "    </tr>\n",
       "    <tr>\n",
       "      <th>2</th>\n",
       "      <td>80.0</td>\n",
       "      <td>0.0</td>\n",
       "      <td>0.0</td>\n",
       "      <td>0.0</td>\n",
       "      <td>241.50</td>\n",
       "    </tr>\n",
       "    <tr>\n",
       "      <th>3</th>\n",
       "      <td>80.0</td>\n",
       "      <td>0.0</td>\n",
       "      <td>0.0</td>\n",
       "      <td>0.0</td>\n",
       "      <td>567.00</td>\n",
       "    </tr>\n",
       "    <tr>\n",
       "      <th>4</th>\n",
       "      <td>80.0</td>\n",
       "      <td>0.0</td>\n",
       "      <td>0.0</td>\n",
       "      <td>0.0</td>\n",
       "      <td>529.20</td>\n",
       "    </tr>\n",
       "  </tbody>\n",
       "</table>\n",
       "</div>"
      ],
      "text/plain": [
       "   Restaurant discount (Promo)  \\\n",
       "0                         80.0   \n",
       "1                        175.0   \n",
       "2                         80.0   \n",
       "3                         80.0   \n",
       "4                         80.0   \n",
       "\n",
       "   Restaurant discount (Flat offs, Freebies & others)  Gold discount  \\\n",
       "0                                                0.0             0.0   \n",
       "1                                                0.0             0.0   \n",
       "2                                                0.0             0.0   \n",
       "3                                                0.0             0.0   \n",
       "4                                                0.0             0.0   \n",
       "\n",
       "   Brand pack discount    Total  \n",
       "0                  0.0   666.75  \n",
       "1                  0.0  1054.20  \n",
       "2                  0.0   241.50  \n",
       "3                  0.0   567.00  \n",
       "4                  0.0   529.20  "
      ]
     },
     "execution_count": 138,
     "metadata": {},
     "output_type": "execute_result"
    }
   ],
   "source": [
    "df_restaurants = df[['Restaurant discount (Promo)', 'Restaurant discount (Flat offs, Freebies & others)', \n",
    "    'Gold discount', 'Brand pack discount', 'Total']]\n",
    "\n",
    "df_restaurants.head()"
   ]
  },
  {
   "cell_type": "code",
   "execution_count": 139,
   "metadata": {},
   "outputs": [
    {
     "data": {
      "text/plain": [
       "Restaurant discount (Promo)                           0\n",
       "Restaurant discount (Flat offs, Freebies & others)    0\n",
       "Gold discount                                         0\n",
       "Brand pack discount                                   0\n",
       "Total                                                 0\n",
       "dtype: int64"
      ]
     },
     "execution_count": 139,
     "metadata": {},
     "output_type": "execute_result"
    }
   ],
   "source": [
    "df_restaurants.isnull().sum()"
   ]
  },
  {
   "cell_type": "code",
   "execution_count": 140,
   "metadata": {},
   "outputs": [],
   "source": [
    "desconto_cols = ['Restaurant discount (Promo)', \n",
    "                 'Restaurant discount (Flat offs, Freebies & others)', \n",
    "                 'Gold discount', \n",
    "                 'Brand pack discount', \n",
    "                 'Total', 'Rating']"
   ]
  },
  {
   "cell_type": "code",
   "execution_count": 141,
   "metadata": {},
   "outputs": [],
   "source": [
    "df[desconto_cols] = df[desconto_cols].fillna(0)"
   ]
  },
  {
   "cell_type": "code",
   "execution_count": 142,
   "metadata": {},
   "outputs": [],
   "source": [
    "df['Total Discount'] = (df['Restaurant discount (Promo)'] + \n",
    "                        df['Restaurant discount (Flat offs, Freebies & others)'] + \n",
    "                        df['Gold discount'] + \n",
    "                        df['Brand pack discount'])"
   ]
  },
  {
   "cell_type": "markdown",
   "metadata": {},
   "source": [
    "Resumo estatístico das variáveis numéricas"
   ]
  },
  {
   "cell_type": "code",
   "execution_count": 143,
   "metadata": {},
   "outputs": [
    {
     "name": "stdout",
     "output_type": "stream",
     "text": [
      "       Total Discount         Total        Rating\n",
      "count    21321.000000  21321.000000  21321.000000\n",
      "mean       100.025326    682.616113      0.509029\n",
      "std        145.885555    465.313977      1.456636\n",
      "min          0.000000     52.500000      0.000000\n",
      "25%          0.000000    387.450000      0.000000\n",
      "50%         90.000000    597.450000      0.000000\n",
      "75%        120.000000    837.900000      0.000000\n",
      "max       7787.000000  12663.000000      5.000000\n"
     ]
    }
   ],
   "source": [
    "print(df[['Total Discount', 'Total', 'Rating']].describe())"
   ]
  },
  {
   "cell_type": "code",
   "execution_count": 144,
   "metadata": {},
   "outputs": [
    {
     "data": {
      "image/png": "[encoded data removed]",
      "text/plain": [
       "<Figure size 640x480 with 2 Axes>"
      ]
     },
     "metadata": {},
     "output_type": "display_data"
    },
    {
     "data": {
      "image/png": "[encoded data removed]",
      "text/plain": [
       "<Figure size 640x480 with 2 Axes>"
      ]
     },
     "metadata": {},
     "output_type": "display_data"
    }
   ],
   "source": [
    "# Matriz de correlação normal\n",
    "correlation_matrix_all = df[['Total Discount', 'Total', 'Rating']].corr()\n",
    "sns.heatmap(correlation_matrix_all, annot=True, cmap='coolwarm', fmt=\".2f\")\n",
    "plt.title('Matriz de Correlação - Todos os Dados')\n",
    "plt.show()\n",
    "\n",
    "# Matriz de correlação excluindo \"Total Discount\" igual a 0\n",
    "df_no_zero_discounts = df[df['Total Discount'] > 0]\n",
    "correlation_matrix_no_zero = df_no_zero_discounts[['Total Discount', 'Total', 'Rating']].corr()\n",
    "sns.heatmap(correlation_matrix_no_zero, annot=True, cmap='coolwarm', fmt=\".2f\")\n",
    "plt.title('Matriz de Correlação - Excluindo Total Discount = 0')\n",
    "plt.show()"
   ]
  },
  {
   "cell_type": "markdown",
   "metadata": {},
   "source": [
    "É possivel observar por meio do gráfico e dos valores da correlação de pearson que a força da correlação entre as variáveis é fraca, ou seja, não necessariamente aumentar o desconto aplicado resultará em um aumento no valor total pago."
   ]
  },
  {
   "cell_type": "markdown",
   "metadata": {},
   "source": [
    "### Analisando a relação entre o tempo de entrega e o tempo de espera do entregador com a avaliação do cliente"
   ]
  },
  {
   "cell_type": "code",
   "execution_count": 145,
   "metadata": {},
   "outputs": [
    {
     "data": {
      "text/html": [
       "<div>\n",
       "<style scoped>\n",
       "    .dataframe tbody tr th:only-of-type {\n",
       "        vertical-align: middle;\n",
       "    }\n",
       "\n",
       "    .dataframe tbody tr th {\n",
       "        vertical-align: top;\n",
       "    }\n",
       "\n",
       "    .dataframe thead th {\n",
       "        text-align: right;\n",
       "    }\n",
       "</style>\n",
       "<table border=\"1\" class=\"dataframe\">\n",
       "  <thead>\n",
       "    <tr style=\"text-align: right;\">\n",
       "      <th></th>\n",
       "      <th>Rider wait time (minutes)</th>\n",
       "      <th>Delivery</th>\n",
       "      <th>Rating</th>\n",
       "    </tr>\n",
       "  </thead>\n",
       "  <tbody>\n",
       "    <tr>\n",
       "      <th>0</th>\n",
       "      <td>11.6</td>\n",
       "      <td>Zomato Delivery</td>\n",
       "      <td>0.0</td>\n",
       "    </tr>\n",
       "    <tr>\n",
       "      <th>1</th>\n",
       "      <td>3.6</td>\n",
       "      <td>Zomato Delivery</td>\n",
       "      <td>0.0</td>\n",
       "    </tr>\n",
       "    <tr>\n",
       "      <th>2</th>\n",
       "      <td>12.2</td>\n",
       "      <td>Zomato Delivery</td>\n",
       "      <td>0.0</td>\n",
       "    </tr>\n",
       "    <tr>\n",
       "      <th>3</th>\n",
       "      <td>3.3</td>\n",
       "      <td>Zomato Delivery</td>\n",
       "      <td>4.0</td>\n",
       "    </tr>\n",
       "    <tr>\n",
       "      <th>4</th>\n",
       "      <td>1.0</td>\n",
       "      <td>Zomato Delivery</td>\n",
       "      <td>0.0</td>\n",
       "    </tr>\n",
       "  </tbody>\n",
       "</table>\n",
       "</div>"
      ],
      "text/plain": [
       "   Rider wait time (minutes)         Delivery  Rating\n",
       "0                       11.6  Zomato Delivery     0.0\n",
       "1                        3.6  Zomato Delivery     0.0\n",
       "2                       12.2  Zomato Delivery     0.0\n",
       "3                        3.3  Zomato Delivery     4.0\n",
       "4                        1.0  Zomato Delivery     0.0"
      ]
     },
     "execution_count": 145,
     "metadata": {},
     "output_type": "execute_result"
    }
   ],
   "source": [
    "df_delivery = df[['Rider wait time (minutes)', 'Delivery', 'Rating']]\n",
    "\n",
    "df_delivery.head()"
   ]
  },
  {
   "cell_type": "code",
   "execution_count": 146,
   "metadata": {},
   "outputs": [
    {
     "data": {
      "text/plain": [
       "Rider wait time (minutes)    168\n",
       "Delivery                       0\n",
       "Rating                         0\n",
       "dtype: int64"
      ]
     },
     "execution_count": 146,
     "metadata": {},
     "output_type": "execute_result"
    }
   ],
   "source": [
    "df_delivery.isnull().sum()"
   ]
  },
  {
   "cell_type": "code",
   "execution_count": 147,
   "metadata": {},
   "outputs": [],
   "source": [
    "df_delivery = df_delivery.dropna(subset=['Rating'])"
   ]
  },
  {
   "cell_type": "code",
   "execution_count": 148,
   "metadata": {},
   "outputs": [
    {
     "name": "stdout",
     "output_type": "stream",
     "text": [
      "correlation: 0.00\n"
     ]
    }
   ],
   "source": [
    "correlation = df_delivery[['Rider wait time (minutes)', 'Rating']].corr().iloc[0, 1]\n",
    "print(f\"correlation: {correlation:.2f}\")"
   ]
  },
  {
   "cell_type": "code",
   "execution_count": 149,
   "metadata": {},
   "outputs": [
    {
     "data": {
      "image/png": "[encoded data removed]",
      "text/plain": [
       "<Figure size 750x500 with 1 Axes>"
      ]
     },
     "metadata": {},
     "output_type": "display_data"
    }
   ],
   "source": [
    "sns.lmplot(x='Rider wait time (minutes)', y='Rating', data=df_delivery, aspect=1.5, scatter_kws={'alpha':0.3}, line_kws={'color':'red'})\n",
    "plt.title('Relação entre Tempo de Espera do Entregador e Avaliação do Cliente')\n",
    "plt.xlabel('Tempo de Espera do Entregador (minutos)')\n",
    "plt.ylabel('Avaliação do Cliente')\n",
    "plt.show()"
   ]
  },
  {
   "cell_type": "markdown",
   "metadata": {},
   "source": [
    "Com o baixo valor da correlação e visualizando o gráfico de dispersão, é possível observar que não há uma relação linear entre o tempo de entrega e o tempo de espera do entregador com a avaliação do cliente."
   ]
  }
 ],
 "metadata": {
  "kernelspec": {
   "display_name": ".venv",
   "language": "python",
   "name": "python3"
  },
  "language_info": {
   "codemirror_mode": {
    "name": "ipython",
    "version": 3
   },
   "file_extension": ".py",
   "mimetype": "text/x-python",
   "name": "python",
   "nbconvert_exporter": "python",
   "pygments_lexer": "ipython3",
   "version": "3.12.5"
  }
 },
 "nbformat": 4,
 "nbformat_minor": 2
}
