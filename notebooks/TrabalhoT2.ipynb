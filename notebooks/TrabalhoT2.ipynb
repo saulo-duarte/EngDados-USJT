{
  "cells": [
    {
      "cell_type": "markdown",
      "metadata": {
        "id": "Sc72qSG5RyuB"
      },
      "source": [
        "# **TRABALHO T2**"
      ]
    },
    {
      "cell_type": "markdown",
      "metadata": {
        "id": "wMa09nndMmiU"
      },
      "source": [
        "Estudo Introdutório a Recomendações e ao Algoritmo K-Nearest Neighbors\n",
        "Este notebook apresenta um estudo referente à metodologias de recomendação de filmes a um determinado usuário, seguindo diferentes heurísticas para tal.\n",
        "O dataset utilizado para este estudo pode ser encontrado no seguinte link do site GroupLens: https://grouplens.org/datasets/movielens/latest/.\n",
        "\n",
        "***UTILIZE O MAIOR DATASET DISPONÍVEL NESTE LINK PARA FAZER O TRABALHO!***"
      ]
    },
    {
      "cell_type": "code",
      "execution_count": 1,
      "metadata": {
        "id": "cf2hN4LAMiLb"
      },
      "outputs": [],
      "source": [
        "# Importando bibliotecas necessárias para o estudo\n",
        "import pandas as pd, numpy as np, matplotlib.pyplot as plt"
      ]
    },
    {
      "cell_type": "code",
      "execution_count": 2,
      "metadata": {
        "colab": {
          "base_uri": "https://localhost:8080/",
          "height": 423
        },
        "id": "olEvVNibNRPV",
        "outputId": "f89c1ee2-8441-4952-80ac-8262e579cbc8"
      },
      "outputs": [
        {
          "data": {
            "text/html": [
              "<div>\n",
              "<style scoped>\n",
              "    .dataframe tbody tr th:only-of-type {\n",
              "        vertical-align: middle;\n",
              "    }\n",
              "\n",
              "    .dataframe tbody tr th {\n",
              "        vertical-align: top;\n",
              "    }\n",
              "\n",
              "    .dataframe thead th {\n",
              "        text-align: right;\n",
              "    }\n",
              "</style>\n",
              "<table border=\"1\" class=\"dataframe\">\n",
              "  <thead>\n",
              "    <tr style=\"text-align: right;\">\n",
              "      <th></th>\n",
              "      <th>movieId</th>\n",
              "      <th>title</th>\n",
              "      <th>genres</th>\n",
              "    </tr>\n",
              "  </thead>\n",
              "  <tbody>\n",
              "    <tr>\n",
              "      <th>0</th>\n",
              "      <td>1</td>\n",
              "      <td>Toy Story (1995)</td>\n",
              "      <td>Adventure|Animation|Children|Comedy|Fantasy</td>\n",
              "    </tr>\n",
              "    <tr>\n",
              "      <th>1</th>\n",
              "      <td>2</td>\n",
              "      <td>Jumanji (1995)</td>\n",
              "      <td>Adventure|Children|Fantasy</td>\n",
              "    </tr>\n",
              "    <tr>\n",
              "      <th>2</th>\n",
              "      <td>3</td>\n",
              "      <td>Grumpier Old Men (1995)</td>\n",
              "      <td>Comedy|Romance</td>\n",
              "    </tr>\n",
              "    <tr>\n",
              "      <th>3</th>\n",
              "      <td>4</td>\n",
              "      <td>Waiting to Exhale (1995)</td>\n",
              "      <td>Comedy|Drama|Romance</td>\n",
              "    </tr>\n",
              "    <tr>\n",
              "      <th>4</th>\n",
              "      <td>5</td>\n",
              "      <td>Father of the Bride Part II (1995)</td>\n",
              "      <td>Comedy</td>\n",
              "    </tr>\n",
              "    <tr>\n",
              "      <th>...</th>\n",
              "      <td>...</td>\n",
              "      <td>...</td>\n",
              "      <td>...</td>\n",
              "    </tr>\n",
              "    <tr>\n",
              "      <th>86532</th>\n",
              "      <td>288967</td>\n",
              "      <td>State of Siege: Temple Attack (2021)</td>\n",
              "      <td>Action|Drama</td>\n",
              "    </tr>\n",
              "    <tr>\n",
              "      <th>86533</th>\n",
              "      <td>288971</td>\n",
              "      <td>Ouija Japan (2021)</td>\n",
              "      <td>Action|Horror</td>\n",
              "    </tr>\n",
              "    <tr>\n",
              "      <th>86534</th>\n",
              "      <td>288975</td>\n",
              "      <td>The Men Who Made the Movies: Howard Hawks (1973)</td>\n",
              "      <td>Documentary</td>\n",
              "    </tr>\n",
              "    <tr>\n",
              "      <th>86535</th>\n",
              "      <td>288977</td>\n",
              "      <td>Skinford: Death Sentence (2023)</td>\n",
              "      <td>Crime|Thriller</td>\n",
              "    </tr>\n",
              "    <tr>\n",
              "      <th>86536</th>\n",
              "      <td>288983</td>\n",
              "      <td>UNZIPPED: An Autopsy of American Inequality (2...</td>\n",
              "      <td>Documentary</td>\n",
              "    </tr>\n",
              "  </tbody>\n",
              "</table>\n",
              "<p>86537 rows × 3 columns</p>\n",
              "</div>"
            ],
            "text/plain": [
              "       movieId                                              title  \\\n",
              "0            1                                   Toy Story (1995)   \n",
              "1            2                                     Jumanji (1995)   \n",
              "2            3                            Grumpier Old Men (1995)   \n",
              "3            4                           Waiting to Exhale (1995)   \n",
              "4            5                 Father of the Bride Part II (1995)   \n",
              "...        ...                                                ...   \n",
              "86532   288967               State of Siege: Temple Attack (2021)   \n",
              "86533   288971                                 Ouija Japan (2021)   \n",
              "86534   288975   The Men Who Made the Movies: Howard Hawks (1973)   \n",
              "86535   288977                    Skinford: Death Sentence (2023)   \n",
              "86536   288983  UNZIPPED: An Autopsy of American Inequality (2...   \n",
              "\n",
              "                                            genres  \n",
              "0      Adventure|Animation|Children|Comedy|Fantasy  \n",
              "1                       Adventure|Children|Fantasy  \n",
              "2                                   Comedy|Romance  \n",
              "3                             Comedy|Drama|Romance  \n",
              "4                                           Comedy  \n",
              "...                                            ...  \n",
              "86532                                 Action|Drama  \n",
              "86533                                Action|Horror  \n",
              "86534                                  Documentary  \n",
              "86535                               Crime|Thriller  \n",
              "86536                                  Documentary  \n",
              "\n",
              "[86537 rows x 3 columns]"
            ]
          },
          "execution_count": 2,
          "metadata": {},
          "output_type": "execute_result"
        }
      ],
      "source": [
        "# Lendo o dataset relacionado aos filmes\n",
        "movies = pd.read_csv('../data/movies.csv')\n",
        "movies"
      ]
    },
    {
      "cell_type": "code",
      "execution_count": 3,
      "metadata": {
        "colab": {
          "base_uri": "https://localhost:8080/",
          "height": 455
        },
        "id": "W0CVpBtAOLoj",
        "outputId": "40461c59-78af-4ade-f83c-2e85b0092d05"
      },
      "outputs": [
        {
          "data": {
            "text/html": [
              "<div>\n",
              "<style scoped>\n",
              "    .dataframe tbody tr th:only-of-type {\n",
              "        vertical-align: middle;\n",
              "    }\n",
              "\n",
              "    .dataframe tbody tr th {\n",
              "        vertical-align: top;\n",
              "    }\n",
              "\n",
              "    .dataframe thead th {\n",
              "        text-align: right;\n",
              "    }\n",
              "</style>\n",
              "<table border=\"1\" class=\"dataframe\">\n",
              "  <thead>\n",
              "    <tr style=\"text-align: right;\">\n",
              "      <th></th>\n",
              "      <th>title</th>\n",
              "      <th>genres</th>\n",
              "    </tr>\n",
              "    <tr>\n",
              "      <th>movieId</th>\n",
              "      <th></th>\n",
              "      <th></th>\n",
              "    </tr>\n",
              "  </thead>\n",
              "  <tbody>\n",
              "    <tr>\n",
              "      <th>1</th>\n",
              "      <td>Toy Story (1995)</td>\n",
              "      <td>Adventure|Animation|Children|Comedy|Fantasy</td>\n",
              "    </tr>\n",
              "    <tr>\n",
              "      <th>2</th>\n",
              "      <td>Jumanji (1995)</td>\n",
              "      <td>Adventure|Children|Fantasy</td>\n",
              "    </tr>\n",
              "    <tr>\n",
              "      <th>3</th>\n",
              "      <td>Grumpier Old Men (1995)</td>\n",
              "      <td>Comedy|Romance</td>\n",
              "    </tr>\n",
              "    <tr>\n",
              "      <th>4</th>\n",
              "      <td>Waiting to Exhale (1995)</td>\n",
              "      <td>Comedy|Drama|Romance</td>\n",
              "    </tr>\n",
              "    <tr>\n",
              "      <th>5</th>\n",
              "      <td>Father of the Bride Part II (1995)</td>\n",
              "      <td>Comedy</td>\n",
              "    </tr>\n",
              "    <tr>\n",
              "      <th>...</th>\n",
              "      <td>...</td>\n",
              "      <td>...</td>\n",
              "    </tr>\n",
              "    <tr>\n",
              "      <th>288967</th>\n",
              "      <td>State of Siege: Temple Attack (2021)</td>\n",
              "      <td>Action|Drama</td>\n",
              "    </tr>\n",
              "    <tr>\n",
              "      <th>288971</th>\n",
              "      <td>Ouija Japan (2021)</td>\n",
              "      <td>Action|Horror</td>\n",
              "    </tr>\n",
              "    <tr>\n",
              "      <th>288975</th>\n",
              "      <td>The Men Who Made the Movies: Howard Hawks (1973)</td>\n",
              "      <td>Documentary</td>\n",
              "    </tr>\n",
              "    <tr>\n",
              "      <th>288977</th>\n",
              "      <td>Skinford: Death Sentence (2023)</td>\n",
              "      <td>Crime|Thriller</td>\n",
              "    </tr>\n",
              "    <tr>\n",
              "      <th>288983</th>\n",
              "      <td>UNZIPPED: An Autopsy of American Inequality (2...</td>\n",
              "      <td>Documentary</td>\n",
              "    </tr>\n",
              "  </tbody>\n",
              "</table>\n",
              "<p>86537 rows × 2 columns</p>\n",
              "</div>"
            ],
            "text/plain": [
              "                                                     title  \\\n",
              "movieId                                                      \n",
              "1                                         Toy Story (1995)   \n",
              "2                                           Jumanji (1995)   \n",
              "3                                  Grumpier Old Men (1995)   \n",
              "4                                 Waiting to Exhale (1995)   \n",
              "5                       Father of the Bride Part II (1995)   \n",
              "...                                                    ...   \n",
              "288967                State of Siege: Temple Attack (2021)   \n",
              "288971                                  Ouija Japan (2021)   \n",
              "288975    The Men Who Made the Movies: Howard Hawks (1973)   \n",
              "288977                     Skinford: Death Sentence (2023)   \n",
              "288983   UNZIPPED: An Autopsy of American Inequality (2...   \n",
              "\n",
              "                                              genres  \n",
              "movieId                                               \n",
              "1        Adventure|Animation|Children|Comedy|Fantasy  \n",
              "2                         Adventure|Children|Fantasy  \n",
              "3                                     Comedy|Romance  \n",
              "4                               Comedy|Drama|Romance  \n",
              "5                                             Comedy  \n",
              "...                                              ...  \n",
              "288967                                  Action|Drama  \n",
              "288971                                 Action|Horror  \n",
              "288975                                   Documentary  \n",
              "288977                                Crime|Thriller  \n",
              "288983                                   Documentary  \n",
              "\n",
              "[86537 rows x 2 columns]"
            ]
          },
          "execution_count": 3,
          "metadata": {},
          "output_type": "execute_result"
        }
      ],
      "source": [
        "# Transformando coluna movieID em índice\n",
        "movies.set_index('movieId', inplace = True)\n",
        "movies"
      ]
    },
    {
      "cell_type": "markdown",
      "metadata": {
        "id": "YvQRP40IOVAP"
      },
      "source": [
        "Conhecendo o Dataframe\n",
        "O Dataframe 'movies' possui informações a respeito dos filmes analisados, sendo estas:\n",
        "\n",
        "**MovieId**: Identificação única de cada filme.\n",
        "\n",
        "**title**: O título de cada filme, junto com o ano de lançamento.\n",
        "\n",
        "**genres**: O gênero, ou conjunto de gêneros, de cada filme.\n"
      ]
    },
    {
      "cell_type": "code",
      "execution_count": 4,
      "metadata": {
        "colab": {
          "base_uri": "https://localhost:8080/",
          "height": 423
        },
        "id": "EsZW_qTuOn0b",
        "outputId": "cb188063-5615-4ce1-c5e6-63c37c695ef1"
      },
      "outputs": [
        {
          "data": {
            "text/html": [
              "<div>\n",
              "<style scoped>\n",
              "    .dataframe tbody tr th:only-of-type {\n",
              "        vertical-align: middle;\n",
              "    }\n",
              "\n",
              "    .dataframe tbody tr th {\n",
              "        vertical-align: top;\n",
              "    }\n",
              "\n",
              "    .dataframe thead th {\n",
              "        text-align: right;\n",
              "    }\n",
              "</style>\n",
              "<table border=\"1\" class=\"dataframe\">\n",
              "  <thead>\n",
              "    <tr style=\"text-align: right;\">\n",
              "      <th></th>\n",
              "      <th>userId</th>\n",
              "      <th>movieId</th>\n",
              "      <th>rating</th>\n",
              "      <th>timestamp</th>\n",
              "    </tr>\n",
              "  </thead>\n",
              "  <tbody>\n",
              "    <tr>\n",
              "      <th>0</th>\n",
              "      <td>1</td>\n",
              "      <td>1</td>\n",
              "      <td>4.0</td>\n",
              "      <td>1225734739</td>\n",
              "    </tr>\n",
              "    <tr>\n",
              "      <th>1</th>\n",
              "      <td>1</td>\n",
              "      <td>110</td>\n",
              "      <td>4.0</td>\n",
              "      <td>1225865086</td>\n",
              "    </tr>\n",
              "    <tr>\n",
              "      <th>2</th>\n",
              "      <td>1</td>\n",
              "      <td>158</td>\n",
              "      <td>4.0</td>\n",
              "      <td>1225733503</td>\n",
              "    </tr>\n",
              "    <tr>\n",
              "      <th>3</th>\n",
              "      <td>1</td>\n",
              "      <td>260</td>\n",
              "      <td>4.5</td>\n",
              "      <td>1225735204</td>\n",
              "    </tr>\n",
              "    <tr>\n",
              "      <th>4</th>\n",
              "      <td>1</td>\n",
              "      <td>356</td>\n",
              "      <td>5.0</td>\n",
              "      <td>1225735119</td>\n",
              "    </tr>\n",
              "    <tr>\n",
              "      <th>...</th>\n",
              "      <td>...</td>\n",
              "      <td>...</td>\n",
              "      <td>...</td>\n",
              "      <td>...</td>\n",
              "    </tr>\n",
              "    <tr>\n",
              "      <th>33832157</th>\n",
              "      <td>330975</td>\n",
              "      <td>8340</td>\n",
              "      <td>2.0</td>\n",
              "      <td>1091583256</td>\n",
              "    </tr>\n",
              "    <tr>\n",
              "      <th>33832158</th>\n",
              "      <td>330975</td>\n",
              "      <td>8493</td>\n",
              "      <td>2.5</td>\n",
              "      <td>1091585709</td>\n",
              "    </tr>\n",
              "    <tr>\n",
              "      <th>33832159</th>\n",
              "      <td>330975</td>\n",
              "      <td>8622</td>\n",
              "      <td>4.0</td>\n",
              "      <td>1091581777</td>\n",
              "    </tr>\n",
              "    <tr>\n",
              "      <th>33832160</th>\n",
              "      <td>330975</td>\n",
              "      <td>8665</td>\n",
              "      <td>3.0</td>\n",
              "      <td>1091581765</td>\n",
              "    </tr>\n",
              "    <tr>\n",
              "      <th>33832161</th>\n",
              "      <td>330975</td>\n",
              "      <td>8783</td>\n",
              "      <td>2.5</td>\n",
              "      <td>1091581799</td>\n",
              "    </tr>\n",
              "  </tbody>\n",
              "</table>\n",
              "<p>33832162 rows × 4 columns</p>\n",
              "</div>"
            ],
            "text/plain": [
              "          userId  movieId  rating   timestamp\n",
              "0              1        1     4.0  1225734739\n",
              "1              1      110     4.0  1225865086\n",
              "2              1      158     4.0  1225733503\n",
              "3              1      260     4.5  1225735204\n",
              "4              1      356     5.0  1225735119\n",
              "...          ...      ...     ...         ...\n",
              "33832157  330975     8340     2.0  1091583256\n",
              "33832158  330975     8493     2.5  1091585709\n",
              "33832159  330975     8622     4.0  1091581777\n",
              "33832160  330975     8665     3.0  1091581765\n",
              "33832161  330975     8783     2.5  1091581799\n",
              "\n",
              "[33832162 rows x 4 columns]"
            ]
          },
          "execution_count": 4,
          "metadata": {},
          "output_type": "execute_result"
        }
      ],
      "source": [
        "# Lendo o dataset relacionado às avaliações dos usuários\n",
        "ratings = pd.read_csv('../data/ratings.csv')\n",
        "ratings"
      ]
    },
    {
      "cell_type": "code",
      "execution_count": 5,
      "metadata": {
        "colab": {
          "base_uri": "https://localhost:8080/",
          "height": 455
        },
        "id": "gB8l6bNHOwBo",
        "outputId": "451970ae-e460-43f3-b767-4d63676dcf6e"
      },
      "outputs": [
        {
          "data": {
            "text/html": [
              "<div>\n",
              "<style scoped>\n",
              "    .dataframe tbody tr th:only-of-type {\n",
              "        vertical-align: middle;\n",
              "    }\n",
              "\n",
              "    .dataframe tbody tr th {\n",
              "        vertical-align: top;\n",
              "    }\n",
              "\n",
              "    .dataframe thead th {\n",
              "        text-align: right;\n",
              "    }\n",
              "</style>\n",
              "<table border=\"1\" class=\"dataframe\">\n",
              "  <thead>\n",
              "    <tr style=\"text-align: right;\">\n",
              "      <th></th>\n",
              "      <th>movieId</th>\n",
              "      <th>rating</th>\n",
              "      <th>timestamp</th>\n",
              "    </tr>\n",
              "    <tr>\n",
              "      <th>userId</th>\n",
              "      <th></th>\n",
              "      <th></th>\n",
              "      <th></th>\n",
              "    </tr>\n",
              "  </thead>\n",
              "  <tbody>\n",
              "    <tr>\n",
              "      <th>1</th>\n",
              "      <td>1</td>\n",
              "      <td>4.0</td>\n",
              "      <td>1225734739</td>\n",
              "    </tr>\n",
              "    <tr>\n",
              "      <th>1</th>\n",
              "      <td>110</td>\n",
              "      <td>4.0</td>\n",
              "      <td>1225865086</td>\n",
              "    </tr>\n",
              "    <tr>\n",
              "      <th>1</th>\n",
              "      <td>158</td>\n",
              "      <td>4.0</td>\n",
              "      <td>1225733503</td>\n",
              "    </tr>\n",
              "    <tr>\n",
              "      <th>1</th>\n",
              "      <td>260</td>\n",
              "      <td>4.5</td>\n",
              "      <td>1225735204</td>\n",
              "    </tr>\n",
              "    <tr>\n",
              "      <th>1</th>\n",
              "      <td>356</td>\n",
              "      <td>5.0</td>\n",
              "      <td>1225735119</td>\n",
              "    </tr>\n",
              "    <tr>\n",
              "      <th>...</th>\n",
              "      <td>...</td>\n",
              "      <td>...</td>\n",
              "      <td>...</td>\n",
              "    </tr>\n",
              "    <tr>\n",
              "      <th>330975</th>\n",
              "      <td>8340</td>\n",
              "      <td>2.0</td>\n",
              "      <td>1091583256</td>\n",
              "    </tr>\n",
              "    <tr>\n",
              "      <th>330975</th>\n",
              "      <td>8493</td>\n",
              "      <td>2.5</td>\n",
              "      <td>1091585709</td>\n",
              "    </tr>\n",
              "    <tr>\n",
              "      <th>330975</th>\n",
              "      <td>8622</td>\n",
              "      <td>4.0</td>\n",
              "      <td>1091581777</td>\n",
              "    </tr>\n",
              "    <tr>\n",
              "      <th>330975</th>\n",
              "      <td>8665</td>\n",
              "      <td>3.0</td>\n",
              "      <td>1091581765</td>\n",
              "    </tr>\n",
              "    <tr>\n",
              "      <th>330975</th>\n",
              "      <td>8783</td>\n",
              "      <td>2.5</td>\n",
              "      <td>1091581799</td>\n",
              "    </tr>\n",
              "  </tbody>\n",
              "</table>\n",
              "<p>33832162 rows × 3 columns</p>\n",
              "</div>"
            ],
            "text/plain": [
              "        movieId  rating   timestamp\n",
              "userId                             \n",
              "1             1     4.0  1225734739\n",
              "1           110     4.0  1225865086\n",
              "1           158     4.0  1225733503\n",
              "1           260     4.5  1225735204\n",
              "1           356     5.0  1225735119\n",
              "...         ...     ...         ...\n",
              "330975     8340     2.0  1091583256\n",
              "330975     8493     2.5  1091585709\n",
              "330975     8622     4.0  1091581777\n",
              "330975     8665     3.0  1091581765\n",
              "330975     8783     2.5  1091581799\n",
              "\n",
              "[33832162 rows x 3 columns]"
            ]
          },
          "execution_count": 5,
          "metadata": {},
          "output_type": "execute_result"
        }
      ],
      "source": [
        "# Transformando coluna userId em índice\n",
        "ratings.set_index('userId', inplace = True)\n",
        "ratings"
      ]
    },
    {
      "cell_type": "markdown",
      "metadata": {
        "id": "8CKQdbzdPETi"
      },
      "source": [
        "Conhecendo o segundo dataframe\n",
        "O Dataframe 'ratings' possui informações a respeito das análises feitas pelos usuários, sendo estas:\n",
        "\n",
        "**userId**: Identificação única de cada usuário presente no dataframe.\n",
        "\n",
        "**movieId**: Identificação única de cada filme presente no dataframe 'movies', visto anteriormente.\n",
        "\n",
        "**rating**: A avaliação feita por aquele usuário àquele filme específico.\n",
        "\n",
        "**timestamp**: De acordo com o site MovieLens (https://files.grouplens.org/datasets/movielens/ml-10m-README.html), representam os segundos que se passaram desde a meia-noite(UTC) do dia 1º de Janeiro de 1970"
      ]
    },
    {
      "cell_type": "code",
      "execution_count": 6,
      "metadata": {
        "colab": {
          "base_uri": "https://localhost:8080/",
          "height": 335
        },
        "id": "MOYsDXEGPkv8",
        "outputId": "1d001a24-307e-4f2b-bbb7-e00c06383cd4"
      },
      "outputs": [
        {
          "data": {
            "text/plain": [
              "count    33832162.00\n",
              "mean            3.54\n",
              "std             1.06\n",
              "min             0.50\n",
              "25%             3.00\n",
              "50%             4.00\n",
              "75%             4.00\n",
              "max             5.00\n",
              "Name: rating, dtype: float64"
            ]
          },
          "execution_count": 6,
          "metadata": {},
          "output_type": "execute_result"
        }
      ],
      "source": [
        "# Informações a respeito das avaliações informadas pelos usuários\n",
        "ratings.rating.describe().round(2)"
      ]
    },
    {
      "cell_type": "code",
      "execution_count": 7,
      "metadata": {
        "colab": {
          "base_uri": "https://localhost:8080/"
        },
        "id": "GHVlZY9hPt2b",
        "outputId": "ddd03ac3-a98b-45fb-feba-c1d50f510100"
      },
      "outputs": [
        {
          "data": {
            "text/plain": [
              "330975"
            ]
          },
          "execution_count": 7,
          "metadata": {},
          "output_type": "execute_result"
        }
      ],
      "source": [
        "# Número de usuários contidos dentro do dataset\n",
        "ratings.index.nunique()"
      ]
    },
    {
      "cell_type": "markdown",
      "metadata": {
        "id": "d1yqOUqyP2iz"
      },
      "source": [
        "## **1. Primeira Tentativa de Recomendação**\n",
        "\n",
        "Sem ter qualquer tipo de informação prévia a respeito do usuário e seus gostos, podemos recomendá-lo dez filmes de acordo com duas diferentes métricas:\n",
        "\n",
        "1º - Os dez filmes mais avaliados.\n",
        "\n",
        "2º - Os dez filmes mais bem avaliados."
      ]
    },
    {
      "cell_type": "code",
      "execution_count": 8,
      "metadata": {
        "colab": {
          "base_uri": "https://localhost:8080/",
          "height": 489
        },
        "id": "_Z5x4spYQBnM",
        "outputId": "c80f147d-b1a2-4dd7-e8e0-29be389d9dce"
      },
      "outputs": [
        {
          "data": {
            "text/plain": [
              "movieId\n",
              "318       122296\n",
              "356       113581\n",
              "296       108756\n",
              "2571      107056\n",
              "593       101802\n",
              "           ...  \n",
              "212773         1\n",
              "194901         1\n",
              "194572         1\n",
              "194002         1\n",
              "193301         1\n",
              "Name: count, Length: 83239, dtype: int64"
            ]
          },
          "execution_count": 8,
          "metadata": {},
          "output_type": "execute_result"
        }
      ],
      "source": [
        "# Vamos avaliar as informações das notas de acordo com os filmes\n",
        "# Utilizando o método value_counts(), podemos identificar os filmes que mais receberam avaliações\n",
        "ratings['movieId'].value_counts()"
      ]
    },
    {
      "cell_type": "code",
      "execution_count": 9,
      "metadata": {
        "colab": {
          "base_uri": "https://localhost:8080/",
          "height": 112
        },
        "id": "nARdMtWIQVWk",
        "outputId": "f61ea35a-255f-47b8-d0bf-94638668c911"
      },
      "outputs": [
        {
          "data": {
            "text/html": [
              "<div>\n",
              "<style scoped>\n",
              "    .dataframe tbody tr th:only-of-type {\n",
              "        vertical-align: middle;\n",
              "    }\n",
              "\n",
              "    .dataframe tbody tr th {\n",
              "        vertical-align: top;\n",
              "    }\n",
              "\n",
              "    .dataframe thead th {\n",
              "        text-align: right;\n",
              "    }\n",
              "</style>\n",
              "<table border=\"1\" class=\"dataframe\">\n",
              "  <thead>\n",
              "    <tr style=\"text-align: right;\">\n",
              "      <th></th>\n",
              "      <th>title</th>\n",
              "      <th>genres</th>\n",
              "    </tr>\n",
              "    <tr>\n",
              "      <th>movieId</th>\n",
              "      <th></th>\n",
              "      <th></th>\n",
              "    </tr>\n",
              "  </thead>\n",
              "  <tbody>\n",
              "    <tr>\n",
              "      <th>318</th>\n",
              "      <td>Shawshank Redemption, The (1994)</td>\n",
              "      <td>Crime|Drama</td>\n",
              "    </tr>\n",
              "  </tbody>\n",
              "</table>\n",
              "</div>"
            ],
            "text/plain": [
              "                                    title       genres\n",
              "movieId                                               \n",
              "318      Shawshank Redemption, The (1994)  Crime|Drama"
            ]
          },
          "execution_count": 9,
          "metadata": {},
          "output_type": "execute_result"
        }
      ],
      "source": [
        "# O filme mais avaliado do dataset é o 318. Buscamos no índice por esse movieId\n",
        "movies.loc[[318]]"
      ]
    },
    {
      "cell_type": "code",
      "execution_count": 10,
      "metadata": {
        "colab": {
          "base_uri": "https://localhost:8080/",
          "height": 455
        },
        "id": "ERoUfRT5Qhvn",
        "outputId": "e248b35c-78c3-4553-cb9d-30ce1df3bd18"
      },
      "outputs": [
        {
          "data": {
            "text/html": [
              "<div>\n",
              "<style scoped>\n",
              "    .dataframe tbody tr th:only-of-type {\n",
              "        vertical-align: middle;\n",
              "    }\n",
              "\n",
              "    .dataframe tbody tr th {\n",
              "        vertical-align: top;\n",
              "    }\n",
              "\n",
              "    .dataframe thead th {\n",
              "        text-align: right;\n",
              "    }\n",
              "</style>\n",
              "<table border=\"1\" class=\"dataframe\">\n",
              "  <thead>\n",
              "    <tr style=\"text-align: right;\">\n",
              "      <th></th>\n",
              "      <th>title</th>\n",
              "      <th>genres</th>\n",
              "      <th>number_of_ratings</th>\n",
              "      <th>average_ratings</th>\n",
              "    </tr>\n",
              "    <tr>\n",
              "      <th>movieId</th>\n",
              "      <th></th>\n",
              "      <th></th>\n",
              "      <th></th>\n",
              "      <th></th>\n",
              "    </tr>\n",
              "  </thead>\n",
              "  <tbody>\n",
              "    <tr>\n",
              "      <th>1</th>\n",
              "      <td>Toy Story (1995)</td>\n",
              "      <td>Adventure|Animation|Children|Comedy|Fantasy</td>\n",
              "      <td>76813.0</td>\n",
              "      <td>3.89</td>\n",
              "    </tr>\n",
              "    <tr>\n",
              "      <th>2</th>\n",
              "      <td>Jumanji (1995)</td>\n",
              "      <td>Adventure|Children|Fantasy</td>\n",
              "      <td>30209.0</td>\n",
              "      <td>3.28</td>\n",
              "    </tr>\n",
              "    <tr>\n",
              "      <th>3</th>\n",
              "      <td>Grumpier Old Men (1995)</td>\n",
              "      <td>Comedy|Romance</td>\n",
              "      <td>15820.0</td>\n",
              "      <td>3.17</td>\n",
              "    </tr>\n",
              "    <tr>\n",
              "      <th>4</th>\n",
              "      <td>Waiting to Exhale (1995)</td>\n",
              "      <td>Comedy|Drama|Romance</td>\n",
              "      <td>3028.0</td>\n",
              "      <td>2.87</td>\n",
              "    </tr>\n",
              "    <tr>\n",
              "      <th>5</th>\n",
              "      <td>Father of the Bride Part II (1995)</td>\n",
              "      <td>Comedy</td>\n",
              "      <td>15801.0</td>\n",
              "      <td>3.08</td>\n",
              "    </tr>\n",
              "    <tr>\n",
              "      <th>...</th>\n",
              "      <td>...</td>\n",
              "      <td>...</td>\n",
              "      <td>...</td>\n",
              "      <td>...</td>\n",
              "    </tr>\n",
              "    <tr>\n",
              "      <th>288967</th>\n",
              "      <td>State of Siege: Temple Attack (2021)</td>\n",
              "      <td>Action|Drama</td>\n",
              "      <td>1.0</td>\n",
              "      <td>3.50</td>\n",
              "    </tr>\n",
              "    <tr>\n",
              "      <th>288971</th>\n",
              "      <td>Ouija Japan (2021)</td>\n",
              "      <td>Action|Horror</td>\n",
              "      <td>1.0</td>\n",
              "      <td>0.50</td>\n",
              "    </tr>\n",
              "    <tr>\n",
              "      <th>288975</th>\n",
              "      <td>The Men Who Made the Movies: Howard Hawks (1973)</td>\n",
              "      <td>Documentary</td>\n",
              "      <td>1.0</td>\n",
              "      <td>4.00</td>\n",
              "    </tr>\n",
              "    <tr>\n",
              "      <th>288977</th>\n",
              "      <td>Skinford: Death Sentence (2023)</td>\n",
              "      <td>Crime|Thriller</td>\n",
              "      <td>1.0</td>\n",
              "      <td>3.00</td>\n",
              "    </tr>\n",
              "    <tr>\n",
              "      <th>288983</th>\n",
              "      <td>UNZIPPED: An Autopsy of American Inequality (2...</td>\n",
              "      <td>Documentary</td>\n",
              "      <td>1.0</td>\n",
              "      <td>3.00</td>\n",
              "    </tr>\n",
              "  </tbody>\n",
              "</table>\n",
              "<p>86537 rows × 4 columns</p>\n",
              "</div>"
            ],
            "text/plain": [
              "                                                     title  \\\n",
              "movieId                                                      \n",
              "1                                         Toy Story (1995)   \n",
              "2                                           Jumanji (1995)   \n",
              "3                                  Grumpier Old Men (1995)   \n",
              "4                                 Waiting to Exhale (1995)   \n",
              "5                       Father of the Bride Part II (1995)   \n",
              "...                                                    ...   \n",
              "288967                State of Siege: Temple Attack (2021)   \n",
              "288971                                  Ouija Japan (2021)   \n",
              "288975    The Men Who Made the Movies: Howard Hawks (1973)   \n",
              "288977                     Skinford: Death Sentence (2023)   \n",
              "288983   UNZIPPED: An Autopsy of American Inequality (2...   \n",
              "\n",
              "                                              genres  number_of_ratings  \\\n",
              "movieId                                                                   \n",
              "1        Adventure|Animation|Children|Comedy|Fantasy            76813.0   \n",
              "2                         Adventure|Children|Fantasy            30209.0   \n",
              "3                                     Comedy|Romance            15820.0   \n",
              "4                               Comedy|Drama|Romance             3028.0   \n",
              "5                                             Comedy            15801.0   \n",
              "...                                              ...                ...   \n",
              "288967                                  Action|Drama                1.0   \n",
              "288971                                 Action|Horror                1.0   \n",
              "288975                                   Documentary                1.0   \n",
              "288977                                Crime|Thriller                1.0   \n",
              "288983                                   Documentary                1.0   \n",
              "\n",
              "         average_ratings  \n",
              "movieId                   \n",
              "1                   3.89  \n",
              "2                   3.28  \n",
              "3                   3.17  \n",
              "4                   2.87  \n",
              "5                   3.08  \n",
              "...                  ...  \n",
              "288967              3.50  \n",
              "288971              0.50  \n",
              "288975              4.00  \n",
              "288977              3.00  \n",
              "288983              3.00  \n",
              "\n",
              "[86537 rows x 4 columns]"
            ]
          },
          "execution_count": 10,
          "metadata": {},
          "output_type": "execute_result"
        }
      ],
      "source": [
        "# Criando coluna que contabiliza o número de avaliações\n",
        "movies['number_of_ratings'] = ratings['movieId'].value_counts()\n",
        "\n",
        "# Criando coluna que calcula a nota média de avaliações e definindo duas casas decimais de\n",
        "# arredondamento.\n",
        "movies['average_ratings'] = ratings.groupby('movieId').rating.mean().round(2)\n",
        "\n",
        "# Visualizando o Dataframe\n",
        "movies"
      ]
    },
    {
      "cell_type": "markdown",
      "metadata": {
        "id": "XKAH3sriQuTk"
      },
      "source": [
        "# **1.1. Recomendando os dez filmes mais avaliados**"
      ]
    },
    {
      "cell_type": "code",
      "execution_count": 11,
      "metadata": {
        "colab": {
          "base_uri": "https://localhost:8080/",
          "height": 394
        },
        "id": "ekBakYPXQw5D",
        "outputId": "307049bf-feb2-4491-d6f9-b87ce25f3d11"
      },
      "outputs": [
        {
          "data": {
            "text/html": [
              "<div>\n",
              "<style scoped>\n",
              "    .dataframe tbody tr th:only-of-type {\n",
              "        vertical-align: middle;\n",
              "    }\n",
              "\n",
              "    .dataframe tbody tr th {\n",
              "        vertical-align: top;\n",
              "    }\n",
              "\n",
              "    .dataframe thead th {\n",
              "        text-align: right;\n",
              "    }\n",
              "</style>\n",
              "<table border=\"1\" class=\"dataframe\">\n",
              "  <thead>\n",
              "    <tr style=\"text-align: right;\">\n",
              "      <th></th>\n",
              "      <th>title</th>\n",
              "      <th>genres</th>\n",
              "      <th>number_of_ratings</th>\n",
              "      <th>average_ratings</th>\n",
              "    </tr>\n",
              "    <tr>\n",
              "      <th>movieId</th>\n",
              "      <th></th>\n",
              "      <th></th>\n",
              "      <th></th>\n",
              "      <th></th>\n",
              "    </tr>\n",
              "  </thead>\n",
              "  <tbody>\n",
              "    <tr>\n",
              "      <th>318</th>\n",
              "      <td>Shawshank Redemption, The (1994)</td>\n",
              "      <td>Crime|Drama</td>\n",
              "      <td>122296.0</td>\n",
              "      <td>4.42</td>\n",
              "    </tr>\n",
              "    <tr>\n",
              "      <th>356</th>\n",
              "      <td>Forrest Gump (1994)</td>\n",
              "      <td>Comedy|Drama|Romance|War</td>\n",
              "      <td>113581.0</td>\n",
              "      <td>4.07</td>\n",
              "    </tr>\n",
              "    <tr>\n",
              "      <th>296</th>\n",
              "      <td>Pulp Fiction (1994)</td>\n",
              "      <td>Comedy|Crime|Drama|Thriller</td>\n",
              "      <td>108756.0</td>\n",
              "      <td>4.19</td>\n",
              "    </tr>\n",
              "    <tr>\n",
              "      <th>2571</th>\n",
              "      <td>Matrix, The (1999)</td>\n",
              "      <td>Action|Sci-Fi|Thriller</td>\n",
              "      <td>107056.0</td>\n",
              "      <td>4.16</td>\n",
              "    </tr>\n",
              "    <tr>\n",
              "      <th>593</th>\n",
              "      <td>Silence of the Lambs, The (1991)</td>\n",
              "      <td>Crime|Horror|Thriller</td>\n",
              "      <td>101802.0</td>\n",
              "      <td>4.15</td>\n",
              "    </tr>\n",
              "    <tr>\n",
              "      <th>260</th>\n",
              "      <td>Star Wars: Episode IV - A New Hope (1977)</td>\n",
              "      <td>Action|Adventure|Sci-Fi</td>\n",
              "      <td>97202.0</td>\n",
              "      <td>4.09</td>\n",
              "    </tr>\n",
              "    <tr>\n",
              "      <th>2959</th>\n",
              "      <td>Fight Club (1999)</td>\n",
              "      <td>Action|Crime|Drama|Thriller</td>\n",
              "      <td>86207.0</td>\n",
              "      <td>4.24</td>\n",
              "    </tr>\n",
              "    <tr>\n",
              "      <th>527</th>\n",
              "      <td>Schindler's List (1993)</td>\n",
              "      <td>Drama|War</td>\n",
              "      <td>84232.0</td>\n",
              "      <td>4.24</td>\n",
              "    </tr>\n",
              "    <tr>\n",
              "      <th>480</th>\n",
              "      <td>Jurassic Park (1993)</td>\n",
              "      <td>Action|Adventure|Sci-Fi|Thriller</td>\n",
              "      <td>83026.0</td>\n",
              "      <td>3.69</td>\n",
              "    </tr>\n",
              "    <tr>\n",
              "      <th>1196</th>\n",
              "      <td>Star Wars: Episode V - The Empire Strikes Back...</td>\n",
              "      <td>Action|Adventure|Sci-Fi</td>\n",
              "      <td>80200.0</td>\n",
              "      <td>4.12</td>\n",
              "    </tr>\n",
              "  </tbody>\n",
              "</table>\n",
              "</div>"
            ],
            "text/plain": [
              "                                                     title  \\\n",
              "movieId                                                      \n",
              "318                       Shawshank Redemption, The (1994)   \n",
              "356                                    Forrest Gump (1994)   \n",
              "296                                    Pulp Fiction (1994)   \n",
              "2571                                    Matrix, The (1999)   \n",
              "593                       Silence of the Lambs, The (1991)   \n",
              "260              Star Wars: Episode IV - A New Hope (1977)   \n",
              "2959                                     Fight Club (1999)   \n",
              "527                                Schindler's List (1993)   \n",
              "480                                   Jurassic Park (1993)   \n",
              "1196     Star Wars: Episode V - The Empire Strikes Back...   \n",
              "\n",
              "                                   genres  number_of_ratings  average_ratings  \n",
              "movieId                                                                        \n",
              "318                           Crime|Drama           122296.0             4.42  \n",
              "356              Comedy|Drama|Romance|War           113581.0             4.07  \n",
              "296           Comedy|Crime|Drama|Thriller           108756.0             4.19  \n",
              "2571               Action|Sci-Fi|Thriller           107056.0             4.16  \n",
              "593                 Crime|Horror|Thriller           101802.0             4.15  \n",
              "260               Action|Adventure|Sci-Fi            97202.0             4.09  \n",
              "2959          Action|Crime|Drama|Thriller            86207.0             4.24  \n",
              "527                             Drama|War            84232.0             4.24  \n",
              "480      Action|Adventure|Sci-Fi|Thriller            83026.0             3.69  \n",
              "1196              Action|Adventure|Sci-Fi            80200.0             4.12  "
            ]
          },
          "execution_count": 11,
          "metadata": {},
          "output_type": "execute_result"
        }
      ],
      "source": [
        "# Para visualizarmos os dez filmes mais avaliados, basta utilizarmo o método sort_values()\n",
        "# e ordenarmos o dataframe pela coluna 'number_of_ratings' de forma decrescente.\n",
        "movies.sort_values('number_of_ratings', ascending = False).head(10)"
      ]
    },
    {
      "cell_type": "markdown",
      "metadata": {
        "id": "Fe5x1ZYVTu7T"
      },
      "source": [
        "Utilizando como base o número total de avaliações, os dez primeiros filmes que podemos indicar a um novo usuário são os listados acima!"
      ]
    },
    {
      "cell_type": "markdown",
      "metadata": {
        "id": "SQ_rfOHrT9yQ"
      },
      "source": [
        "## **1.2. Recomendando os dez filmes mais bem avaliados**"
      ]
    },
    {
      "cell_type": "code",
      "execution_count": 12,
      "metadata": {
        "colab": {
          "base_uri": "https://localhost:8080/",
          "height": 394
        },
        "id": "UYql_0juUEYx",
        "outputId": "2da32c26-4c99-4146-80a1-7bc0ea5ac344"
      },
      "outputs": [
        {
          "data": {
            "text/html": [
              "<div>\n",
              "<style scoped>\n",
              "    .dataframe tbody tr th:only-of-type {\n",
              "        vertical-align: middle;\n",
              "    }\n",
              "\n",
              "    .dataframe tbody tr th {\n",
              "        vertical-align: top;\n",
              "    }\n",
              "\n",
              "    .dataframe thead th {\n",
              "        text-align: right;\n",
              "    }\n",
              "</style>\n",
              "<table border=\"1\" class=\"dataframe\">\n",
              "  <thead>\n",
              "    <tr style=\"text-align: right;\">\n",
              "      <th></th>\n",
              "      <th>title</th>\n",
              "      <th>genres</th>\n",
              "      <th>number_of_ratings</th>\n",
              "      <th>average_ratings</th>\n",
              "    </tr>\n",
              "    <tr>\n",
              "      <th>movieId</th>\n",
              "      <th></th>\n",
              "      <th></th>\n",
              "      <th></th>\n",
              "      <th></th>\n",
              "    </tr>\n",
              "  </thead>\n",
              "  <tbody>\n",
              "    <tr>\n",
              "      <th>171011</th>\n",
              "      <td>Planet Earth II (2016)</td>\n",
              "      <td>Documentary</td>\n",
              "      <td>2041.0</td>\n",
              "      <td>4.45</td>\n",
              "    </tr>\n",
              "    <tr>\n",
              "      <th>159817</th>\n",
              "      <td>Planet Earth (2006)</td>\n",
              "      <td>Documentary</td>\n",
              "      <td>3015.0</td>\n",
              "      <td>4.45</td>\n",
              "    </tr>\n",
              "    <tr>\n",
              "      <th>318</th>\n",
              "      <td>Shawshank Redemption, The (1994)</td>\n",
              "      <td>Crime|Drama</td>\n",
              "      <td>122296.0</td>\n",
              "      <td>4.42</td>\n",
              "    </tr>\n",
              "    <tr>\n",
              "      <th>170705</th>\n",
              "      <td>Band of Brothers (2001)</td>\n",
              "      <td>Action|Drama|War</td>\n",
              "      <td>2835.0</td>\n",
              "      <td>4.42</td>\n",
              "    </tr>\n",
              "    <tr>\n",
              "      <th>858</th>\n",
              "      <td>Godfather, The (1972)</td>\n",
              "      <td>Crime|Drama</td>\n",
              "      <td>75004.0</td>\n",
              "      <td>4.33</td>\n",
              "    </tr>\n",
              "    <tr>\n",
              "      <th>202439</th>\n",
              "      <td>Parasite (2019)</td>\n",
              "      <td>Comedy|Drama</td>\n",
              "      <td>12399.0</td>\n",
              "      <td>4.33</td>\n",
              "    </tr>\n",
              "    <tr>\n",
              "      <th>179135</th>\n",
              "      <td>Blue Planet II (2017)</td>\n",
              "      <td>Documentary</td>\n",
              "      <td>1267.0</td>\n",
              "      <td>4.31</td>\n",
              "    </tr>\n",
              "    <tr>\n",
              "      <th>198185</th>\n",
              "      <td>Twin Peaks (1989)</td>\n",
              "      <td>Drama|Mystery</td>\n",
              "      <td>1132.0</td>\n",
              "      <td>4.30</td>\n",
              "    </tr>\n",
              "    <tr>\n",
              "      <th>1203</th>\n",
              "      <td>12 Angry Men (1957)</td>\n",
              "      <td>Drama</td>\n",
              "      <td>22730.0</td>\n",
              "      <td>4.27</td>\n",
              "    </tr>\n",
              "    <tr>\n",
              "      <th>1221</th>\n",
              "      <td>Godfather: Part II, The (1974)</td>\n",
              "      <td>Crime|Drama</td>\n",
              "      <td>47271.0</td>\n",
              "      <td>4.27</td>\n",
              "    </tr>\n",
              "  </tbody>\n",
              "</table>\n",
              "</div>"
            ],
            "text/plain": [
              "                                    title            genres  \\\n",
              "movieId                                                       \n",
              "171011             Planet Earth II (2016)       Documentary   \n",
              "159817                Planet Earth (2006)       Documentary   \n",
              "318      Shawshank Redemption, The (1994)       Crime|Drama   \n",
              "170705            Band of Brothers (2001)  Action|Drama|War   \n",
              "858                 Godfather, The (1972)       Crime|Drama   \n",
              "202439                    Parasite (2019)      Comedy|Drama   \n",
              "179135              Blue Planet II (2017)       Documentary   \n",
              "198185                  Twin Peaks (1989)     Drama|Mystery   \n",
              "1203                  12 Angry Men (1957)             Drama   \n",
              "1221       Godfather: Part II, The (1974)       Crime|Drama   \n",
              "\n",
              "         number_of_ratings  average_ratings  \n",
              "movieId                                      \n",
              "171011              2041.0             4.45  \n",
              "159817              3015.0             4.45  \n",
              "318               122296.0             4.42  \n",
              "170705              2835.0             4.42  \n",
              "858                75004.0             4.33  \n",
              "202439             12399.0             4.33  \n",
              "179135              1267.0             4.31  \n",
              "198185              1132.0             4.30  \n",
              "1203               22730.0             4.27  \n",
              "1221               47271.0             4.27  "
            ]
          },
          "execution_count": 12,
          "metadata": {},
          "output_type": "execute_result"
        }
      ],
      "source": [
        "# Para visualizar os dez filmes mais bem avaliados, basta usar o mesmo método sort_values()\n",
        "# para ordenar a coluna 'average_ratings' de forma decrescente.\n",
        "# Entretanto, é necessário filtrar a coluna 'number_of_ratings', definindo um número mínimo\n",
        "# de avaliações que um filme deva ter para aparecer no Dataframe, evitando que filmes de nicho,\n",
        "# pouco avaliados, apareçam como mais bem votados.\n",
        "\n",
        "# Definimos um número mínimo de avaliações de 1000\n",
        "movies.query('number_of_ratings >= 1000').sort_values('average_ratings', ascending = False).head(10)"
      ]
    },
    {
      "cell_type": "markdown",
      "metadata": {
        "id": "jQZFpv4zVH1Z"
      },
      "source": [
        "## **2. Recomendação pela Similaridade de Gênero**\n",
        "\n",
        "Presumindo que sabemos que o usuário já assitiu alguns filmes e que os IDs destes filmes são 1,21,19,10,11,7 e 2, podemos utilizar esta informação para indicar a ele novos filmes de gêneros similares àqueles que ele assistiu, sem levar em conta, entretanto, suas avaliações a respeito destes filmes!"
      ]
    },
    {
      "cell_type": "code",
      "execution_count": 13,
      "metadata": {
        "colab": {
          "base_uri": "https://localhost:8080/",
          "height": 300
        },
        "id": "GpoVL8e1VXdE",
        "outputId": "a8767510-29e0-43d5-978d-3b149e88007f"
      },
      "outputs": [
        {
          "data": {
            "text/html": [
              "<div>\n",
              "<style scoped>\n",
              "    .dataframe tbody tr th:only-of-type {\n",
              "        vertical-align: middle;\n",
              "    }\n",
              "\n",
              "    .dataframe tbody tr th {\n",
              "        vertical-align: top;\n",
              "    }\n",
              "\n",
              "    .dataframe thead th {\n",
              "        text-align: right;\n",
              "    }\n",
              "</style>\n",
              "<table border=\"1\" class=\"dataframe\">\n",
              "  <thead>\n",
              "    <tr style=\"text-align: right;\">\n",
              "      <th></th>\n",
              "      <th>title</th>\n",
              "      <th>genres</th>\n",
              "      <th>number_of_ratings</th>\n",
              "      <th>average_ratings</th>\n",
              "    </tr>\n",
              "    <tr>\n",
              "      <th>movieId</th>\n",
              "      <th></th>\n",
              "      <th></th>\n",
              "      <th></th>\n",
              "      <th></th>\n",
              "    </tr>\n",
              "  </thead>\n",
              "  <tbody>\n",
              "    <tr>\n",
              "      <th>1</th>\n",
              "      <td>Toy Story (1995)</td>\n",
              "      <td>Adventure|Animation|Children|Comedy|Fantasy</td>\n",
              "      <td>76813.0</td>\n",
              "      <td>3.89</td>\n",
              "    </tr>\n",
              "    <tr>\n",
              "      <th>21</th>\n",
              "      <td>Get Shorty (1995)</td>\n",
              "      <td>Comedy|Crime|Thriller</td>\n",
              "      <td>26183.0</td>\n",
              "      <td>3.57</td>\n",
              "    </tr>\n",
              "    <tr>\n",
              "      <th>19</th>\n",
              "      <td>Ace Ventura: When Nature Calls (1995)</td>\n",
              "      <td>Comedy</td>\n",
              "      <td>26642.0</td>\n",
              "      <td>2.67</td>\n",
              "    </tr>\n",
              "    <tr>\n",
              "      <th>10</th>\n",
              "      <td>GoldenEye (1995)</td>\n",
              "      <td>Action|Adventure|Thriller</td>\n",
              "      <td>34942.0</td>\n",
              "      <td>3.43</td>\n",
              "    </tr>\n",
              "    <tr>\n",
              "      <th>11</th>\n",
              "      <td>American President, The (1995)</td>\n",
              "      <td>Comedy|Drama|Romance</td>\n",
              "      <td>20256.0</td>\n",
              "      <td>3.66</td>\n",
              "    </tr>\n",
              "    <tr>\n",
              "      <th>7</th>\n",
              "      <td>Sabrina (1995)</td>\n",
              "      <td>Comedy|Romance</td>\n",
              "      <td>15596.0</td>\n",
              "      <td>3.37</td>\n",
              "    </tr>\n",
              "    <tr>\n",
              "      <th>2</th>\n",
              "      <td>Jumanji (1995)</td>\n",
              "      <td>Adventure|Children|Fantasy</td>\n",
              "      <td>30209.0</td>\n",
              "      <td>3.28</td>\n",
              "    </tr>\n",
              "  </tbody>\n",
              "</table>\n",
              "</div>"
            ],
            "text/plain": [
              "                                         title  \\\n",
              "movieId                                          \n",
              "1                             Toy Story (1995)   \n",
              "21                           Get Shorty (1995)   \n",
              "19       Ace Ventura: When Nature Calls (1995)   \n",
              "10                            GoldenEye (1995)   \n",
              "11              American President, The (1995)   \n",
              "7                               Sabrina (1995)   \n",
              "2                               Jumanji (1995)   \n",
              "\n",
              "                                              genres  number_of_ratings  \\\n",
              "movieId                                                                   \n",
              "1        Adventure|Animation|Children|Comedy|Fantasy            76813.0   \n",
              "21                             Comedy|Crime|Thriller            26183.0   \n",
              "19                                            Comedy            26642.0   \n",
              "10                         Action|Adventure|Thriller            34942.0   \n",
              "11                              Comedy|Drama|Romance            20256.0   \n",
              "7                                     Comedy|Romance            15596.0   \n",
              "2                         Adventure|Children|Fantasy            30209.0   \n",
              "\n",
              "         average_ratings  \n",
              "movieId                   \n",
              "1                   3.89  \n",
              "21                  3.57  \n",
              "19                  2.67  \n",
              "10                  3.43  \n",
              "11                  3.66  \n",
              "7                   3.37  \n",
              "2                   3.28  "
            ]
          },
          "execution_count": 13,
          "metadata": {},
          "output_type": "execute_result"
        }
      ],
      "source": [
        "# Criando uma lista de filmes assistidos\n",
        "watched_movies = [1,21,19,10,11,7,2]\n",
        "# Visualizando quais filmes são estes\n",
        "movies.loc[watched_movies]"
      ]
    },
    {
      "cell_type": "markdown",
      "metadata": {
        "id": "fVyp56y-Vc7G"
      },
      "source": [
        "**Filmes de Gênero Similares**\n",
        "\n",
        "Observando que o último filme assistido, Jumanji, encontra-se na categoria Adventure|Children|Fantasy, buscamos filmes de categorias similares e recomendamos ao usuário estes filmes ordenando-os de acordo com a média de avaliações, também filtrando o número de avaliações, evitando recomendar filmes pouco avaliados."
      ]
    },
    {
      "cell_type": "code",
      "execution_count": 14,
      "metadata": {
        "colab": {
          "base_uri": "https://localhost:8080/",
          "height": 237
        },
        "id": "HRwvJyg7V2tK",
        "outputId": "6285f073-2faa-49d3-970d-5ff2df0e6e75"
      },
      "outputs": [
        {
          "data": {
            "text/html": [
              "<div>\n",
              "<style scoped>\n",
              "    .dataframe tbody tr th:only-of-type {\n",
              "        vertical-align: middle;\n",
              "    }\n",
              "\n",
              "    .dataframe tbody tr th {\n",
              "        vertical-align: top;\n",
              "    }\n",
              "\n",
              "    .dataframe thead th {\n",
              "        text-align: right;\n",
              "    }\n",
              "</style>\n",
              "<table border=\"1\" class=\"dataframe\">\n",
              "  <thead>\n",
              "    <tr style=\"text-align: right;\">\n",
              "      <th></th>\n",
              "      <th>title</th>\n",
              "      <th>genres</th>\n",
              "      <th>number_of_ratings</th>\n",
              "      <th>average_ratings</th>\n",
              "    </tr>\n",
              "    <tr>\n",
              "      <th>movieId</th>\n",
              "      <th></th>\n",
              "      <th></th>\n",
              "      <th></th>\n",
              "      <th></th>\n",
              "    </tr>\n",
              "  </thead>\n",
              "  <tbody>\n",
              "    <tr>\n",
              "      <th>4896</th>\n",
              "      <td>Harry Potter and the Sorcerer's Stone (a.k.a. ...</td>\n",
              "      <td>Adventure|Children|Fantasy</td>\n",
              "      <td>36127.0</td>\n",
              "      <td>3.70</td>\n",
              "    </tr>\n",
              "    <tr>\n",
              "      <th>80748</th>\n",
              "      <td>Alice in Wonderland (1933)</td>\n",
              "      <td>Adventure|Children|Fantasy</td>\n",
              "      <td>125.0</td>\n",
              "      <td>3.52</td>\n",
              "    </tr>\n",
              "    <tr>\n",
              "      <th>2161</th>\n",
              "      <td>NeverEnding Story, The (1984)</td>\n",
              "      <td>Adventure|Children|Fantasy</td>\n",
              "      <td>13617.0</td>\n",
              "      <td>3.52</td>\n",
              "    </tr>\n",
              "    <tr>\n",
              "      <th>50601</th>\n",
              "      <td>Bridge to Terabithia (2007)</td>\n",
              "      <td>Adventure|Children|Fantasy</td>\n",
              "      <td>2697.0</td>\n",
              "      <td>3.44</td>\n",
              "    </tr>\n",
              "    <tr>\n",
              "      <th>41566</th>\n",
              "      <td>Chronicles of Narnia: The Lion, the Witch and ...</td>\n",
              "      <td>Adventure|Children|Fantasy</td>\n",
              "      <td>17042.0</td>\n",
              "      <td>3.39</td>\n",
              "    </tr>\n",
              "    <tr>\n",
              "      <th>2043</th>\n",
              "      <td>Darby O'Gill and the Little People (1959)</td>\n",
              "      <td>Adventure|Children|Fantasy</td>\n",
              "      <td>1217.0</td>\n",
              "      <td>3.28</td>\n",
              "    </tr>\n",
              "    <tr>\n",
              "      <th>82169</th>\n",
              "      <td>Chronicles of Narnia: The Voyage of the Dawn T...</td>\n",
              "      <td>Adventure|Children|Fantasy</td>\n",
              "      <td>2968.0</td>\n",
              "      <td>3.28</td>\n",
              "    </tr>\n",
              "    <tr>\n",
              "      <th>59501</th>\n",
              "      <td>Chronicles of Narnia: Prince Caspian, The (2008)</td>\n",
              "      <td>Adventure|Children|Fantasy</td>\n",
              "      <td>4646.0</td>\n",
              "      <td>3.19</td>\n",
              "    </tr>\n",
              "    <tr>\n",
              "      <th>160573</th>\n",
              "      <td>Pete's Dragon (2016)</td>\n",
              "      <td>Adventure|Children|Fantasy</td>\n",
              "      <td>458.0</td>\n",
              "      <td>3.16</td>\n",
              "    </tr>\n",
              "    <tr>\n",
              "      <th>1009</th>\n",
              "      <td>Escape to Witch Mountain (1975)</td>\n",
              "      <td>Adventure|Children|Fantasy</td>\n",
              "      <td>2862.0</td>\n",
              "      <td>3.14</td>\n",
              "    </tr>\n",
              "  </tbody>\n",
              "</table>\n",
              "</div>"
            ],
            "text/plain": [
              "                                                     title  \\\n",
              "movieId                                                      \n",
              "4896     Harry Potter and the Sorcerer's Stone (a.k.a. ...   \n",
              "80748                           Alice in Wonderland (1933)   \n",
              "2161                         NeverEnding Story, The (1984)   \n",
              "50601                          Bridge to Terabithia (2007)   \n",
              "41566    Chronicles of Narnia: The Lion, the Witch and ...   \n",
              "2043             Darby O'Gill and the Little People (1959)   \n",
              "82169    Chronicles of Narnia: The Voyage of the Dawn T...   \n",
              "59501     Chronicles of Narnia: Prince Caspian, The (2008)   \n",
              "160573                                Pete's Dragon (2016)   \n",
              "1009                       Escape to Witch Mountain (1975)   \n",
              "\n",
              "                             genres  number_of_ratings  average_ratings  \n",
              "movieId                                                                  \n",
              "4896     Adventure|Children|Fantasy            36127.0             3.70  \n",
              "80748    Adventure|Children|Fantasy              125.0             3.52  \n",
              "2161     Adventure|Children|Fantasy            13617.0             3.52  \n",
              "50601    Adventure|Children|Fantasy             2697.0             3.44  \n",
              "41566    Adventure|Children|Fantasy            17042.0             3.39  \n",
              "2043     Adventure|Children|Fantasy             1217.0             3.28  \n",
              "82169    Adventure|Children|Fantasy             2968.0             3.28  \n",
              "59501    Adventure|Children|Fantasy             4646.0             3.19  \n",
              "160573   Adventure|Children|Fantasy              458.0             3.16  \n",
              "1009     Adventure|Children|Fantasy             2862.0             3.14  "
            ]
          },
          "execution_count": 14,
          "metadata": {},
          "output_type": "execute_result"
        }
      ],
      "source": [
        "# Buscamos filmes que tenham, no minimo, 100 avaliações dentro da categoria.\n",
        "# Método drop() utilizado para evitar que o usuário receba recomendações de filmes já assistidos.\n",
        "movies.query(\"genres == 'Adventure|Children|Fantasy'\").query('number_of_ratings >= 100').sort_values(\n",
        "'average_ratings', ascending = False).drop(watched_movies, errors = 'ignore').head(10)"
      ]
    },
    {
      "cell_type": "markdown",
      "metadata": {
        "id": "ipAMWsBaWQN9"
      },
      "source": [
        "# **3. Recomendações por Similaridades Entre Usuários**\n",
        "\n",
        "**Calculando a distância euclidiana**\n",
        "\n",
        "Outra abordagem que podemos utilizar é a recomendação através da similaridade entre usuários.\n",
        "Sabendo que João, Maria e Joana assistiram, cada um, os mesmos dois filmes (x e y) e os avaliaram, podemos realizar o cálculo da distância euclidiana entre estes três usuários por meio do teorema de Pitágoras para identificarmos a similaridade entre seus gostos."
      ]
    },
    {
      "cell_type": "code",
      "execution_count": 15,
      "metadata": {
        "colab": {
          "base_uri": "https://localhost:8080/",
          "height": 684
        },
        "id": "KJSES714Wcgc",
        "outputId": "b09eb667-0556-4c4d-d6a2-bacec8347004"
      },
      "outputs": [
        {
          "data": {
            "text/plain": [
              "Text(0.5, 1.0, 'Calculando a distância entre dois usuários')"
            ]
          },
          "execution_count": 15,
          "metadata": {},
          "output_type": "execute_result"
        },
        {
          "data": {
            "image/png": "[encoded data removed]",
            "text/plain": [
              "<Figure size 1500x800 with 1 Axes>"
            ]
          },
          "metadata": {},
          "output_type": "display_data"
        }
      ],
      "source": [
        "# Vamos supor que João, Maria e Joana fizeram as seguintes avaliações dos mesmos filmes\n",
        "joao = np.array([4,4.5])\n",
        "maria = np.array([5,5])\n",
        "joana = np.array([3.5,4.5])\n",
        "\n",
        "# Podemos plotar em um gráfico para visualizarmos as diferentes avaliações por cada um deles\n",
        "plt.figure(figsize=(15,8))\n",
        "plt.plot(4, 4.5,\"go\") # Avaliações de João representadas por um círculo verde\n",
        "plt.plot(5, 5,\"yo\") # Avaliações de Maria representadas por um círculo amarelo\n",
        "plt.plot(3.5,4.5,\"ro\") # Avaliações de Joana representadas por um círculo vermelho\n",
        "plt.legend(['João','Maria','Joana'])\n",
        "plt.title(\"Calculando a distância entre dois usuários\")"
      ]
    },
    {
      "cell_type": "markdown",
      "metadata": {
        "id": "o2-s08reWjZB"
      },
      "source": [
        "Sabendo as avaliações de cada um dos três usuários, podemos utilizar o método linalg.norm() do Numpy para calcularmos as distâncias euclidianas entre eles."
      ]
    },
    {
      "cell_type": "code",
      "execution_count": 16,
      "metadata": {
        "id": "XwRdeQteWpIq"
      },
      "outputs": [],
      "source": [
        "# Criando função que faça o cálculo da distância euclidiana\n",
        "def distance(a,b):\n",
        "    return round(np.linalg.norm(a - b), 2) # método round para exibir apenas 2 números decimais"
      ]
    },
    {
      "cell_type": "code",
      "execution_count": 17,
      "metadata": {
        "colab": {
          "base_uri": "https://localhost:8080/"
        },
        "id": "CO5pEDraW4T6",
        "outputId": "c0efaae6-10b2-4f00-99de-e3fceee6429b"
      },
      "outputs": [
        {
          "name": "stdout",
          "output_type": "stream",
          "text": [
            "A distância de João e Maria é de 1.12\n",
            "A distância de João e Joana é de 0.5\n"
          ]
        }
      ],
      "source": [
        "# Medindo as distâncias entre João, Maria e Joana\n",
        "print(f'A distância de João e Maria é de {distance(joao,maria)}')\n",
        "print(f'A distância de João e Joana é de {distance(joao,joana)}')"
      ]
    },
    {
      "cell_type": "markdown",
      "metadata": {
        "id": "47wtdoG3W-cx"
      },
      "source": [
        "Através do cálculo da distância euclidiana entre João, Maria e Joana, podemos perceber que Joana está muito mais próxima de João do que de Maria, ou seja, João e Maria possuem gostos similares, de acordo com suas avaliações dos mesmos filmes.\n",
        "Sabendo de tal similaridade, faz sentido recomendar à Joana os filmes que João assistiu e gostou."
      ]
    },
    {
      "cell_type": "markdown",
      "metadata": {
        "id": "w4G_TFVYXG0t"
      },
      "source": [
        "**3.1. Aplicando o Cálculo de Distância Euclidiana em Dois Usuários do Dataset**\n",
        "\n",
        "Vamos supor que queremos recomendar filmes ao userId 1 e vamos calcular qual é a sua distância do userId 4."
      ]
    },
    {
      "cell_type": "code",
      "execution_count": 18,
      "metadata": {
        "id": "0K7DwcjjXAIw"
      },
      "outputs": [],
      "source": [
        "# Definindo função para extrair informaçoes a respeito das avaliações de cada usuário\n",
        "def user_ratings(userId):\n",
        "    user_ratings = ratings.query('userId == %d' % userId)[['movieId','rating']].set_index('movieId')\n",
        "    return user_ratings"
      ]
    },
    {
      "cell_type": "code",
      "execution_count": 19,
      "metadata": {
        "colab": {
          "base_uri": "https://localhost:8080/",
          "height": 455
        },
        "id": "uUTbLdzPXWkk",
        "outputId": "4e1a3981-8779-4ccc-b0a9-6414ff43db94"
      },
      "outputs": [
        {
          "data": {
            "text/html": [
              "<div>\n",
              "<style scoped>\n",
              "    .dataframe tbody tr th:only-of-type {\n",
              "        vertical-align: middle;\n",
              "    }\n",
              "\n",
              "    .dataframe tbody tr th {\n",
              "        vertical-align: top;\n",
              "    }\n",
              "\n",
              "    .dataframe thead th {\n",
              "        text-align: right;\n",
              "    }\n",
              "</style>\n",
              "<table border=\"1\" class=\"dataframe\">\n",
              "  <thead>\n",
              "    <tr style=\"text-align: right;\">\n",
              "      <th></th>\n",
              "      <th>rating</th>\n",
              "    </tr>\n",
              "    <tr>\n",
              "      <th>movieId</th>\n",
              "      <th></th>\n",
              "    </tr>\n",
              "  </thead>\n",
              "  <tbody>\n",
              "    <tr>\n",
              "      <th>1</th>\n",
              "      <td>4.0</td>\n",
              "    </tr>\n",
              "    <tr>\n",
              "      <th>110</th>\n",
              "      <td>4.0</td>\n",
              "    </tr>\n",
              "    <tr>\n",
              "      <th>158</th>\n",
              "      <td>4.0</td>\n",
              "    </tr>\n",
              "    <tr>\n",
              "      <th>260</th>\n",
              "      <td>4.5</td>\n",
              "    </tr>\n",
              "    <tr>\n",
              "      <th>356</th>\n",
              "      <td>5.0</td>\n",
              "    </tr>\n",
              "    <tr>\n",
              "      <th>...</th>\n",
              "      <td>...</td>\n",
              "    </tr>\n",
              "    <tr>\n",
              "      <th>40629</th>\n",
              "      <td>4.5</td>\n",
              "    </tr>\n",
              "    <tr>\n",
              "      <th>49647</th>\n",
              "      <td>5.0</td>\n",
              "    </tr>\n",
              "    <tr>\n",
              "      <th>52458</th>\n",
              "      <td>5.0</td>\n",
              "    </tr>\n",
              "    <tr>\n",
              "      <th>53996</th>\n",
              "      <td>5.0</td>\n",
              "    </tr>\n",
              "    <tr>\n",
              "      <th>54259</th>\n",
              "      <td>4.0</td>\n",
              "    </tr>\n",
              "  </tbody>\n",
              "</table>\n",
              "<p>62 rows × 1 columns</p>\n",
              "</div>"
            ],
            "text/plain": [
              "         rating\n",
              "movieId        \n",
              "1           4.0\n",
              "110         4.0\n",
              "158         4.0\n",
              "260         4.5\n",
              "356         5.0\n",
              "...         ...\n",
              "40629       4.5\n",
              "49647       5.0\n",
              "52458       5.0\n",
              "53996       5.0\n",
              "54259       4.0\n",
              "\n",
              "[62 rows x 1 columns]"
            ]
          },
          "execution_count": 19,
          "metadata": {},
          "output_type": "execute_result"
        }
      ],
      "source": [
        "# Testando a função e extraindo o movieId e a avaliação do userId 1 de cada filme indexado\n",
        "user_ratings(1)"
      ]
    },
    {
      "cell_type": "code",
      "execution_count": 20,
      "metadata": {
        "colab": {
          "base_uri": "https://localhost:8080/",
          "height": 1000
        },
        "id": "VHhtj1HWXd0v",
        "outputId": "217e9b42-c18a-4d44-b0fa-3c2fe26db9b8"
      },
      "outputs": [
        {
          "data": {
            "text/html": [
              "<div>\n",
              "<style scoped>\n",
              "    .dataframe tbody tr th:only-of-type {\n",
              "        vertical-align: middle;\n",
              "    }\n",
              "\n",
              "    .dataframe tbody tr th {\n",
              "        vertical-align: top;\n",
              "    }\n",
              "\n",
              "    .dataframe thead th {\n",
              "        text-align: right;\n",
              "    }\n",
              "</style>\n",
              "<table border=\"1\" class=\"dataframe\">\n",
              "  <thead>\n",
              "    <tr style=\"text-align: right;\">\n",
              "      <th></th>\n",
              "      <th>rating</th>\n",
              "    </tr>\n",
              "    <tr>\n",
              "      <th>movieId</th>\n",
              "      <th></th>\n",
              "    </tr>\n",
              "  </thead>\n",
              "  <tbody>\n",
              "    <tr>\n",
              "      <th>260</th>\n",
              "      <td>5.0</td>\n",
              "    </tr>\n",
              "    <tr>\n",
              "      <th>318</th>\n",
              "      <td>5.0</td>\n",
              "    </tr>\n",
              "    <tr>\n",
              "      <th>356</th>\n",
              "      <td>5.0</td>\n",
              "    </tr>\n",
              "    <tr>\n",
              "      <th>595</th>\n",
              "      <td>4.5</td>\n",
              "    </tr>\n",
              "    <tr>\n",
              "      <th>858</th>\n",
              "      <td>3.0</td>\n",
              "    </tr>\n",
              "    <tr>\n",
              "      <th>915</th>\n",
              "      <td>4.0</td>\n",
              "    </tr>\n",
              "    <tr>\n",
              "      <th>1097</th>\n",
              "      <td>3.5</td>\n",
              "    </tr>\n",
              "    <tr>\n",
              "      <th>2324</th>\n",
              "      <td>5.0</td>\n",
              "    </tr>\n",
              "    <tr>\n",
              "      <th>2858</th>\n",
              "      <td>4.0</td>\n",
              "    </tr>\n",
              "    <tr>\n",
              "      <th>4306</th>\n",
              "      <td>4.5</td>\n",
              "    </tr>\n",
              "    <tr>\n",
              "      <th>5618</th>\n",
              "      <td>5.0</td>\n",
              "    </tr>\n",
              "    <tr>\n",
              "      <th>5995</th>\n",
              "      <td>5.0</td>\n",
              "    </tr>\n",
              "    <tr>\n",
              "      <th>8368</th>\n",
              "      <td>4.0</td>\n",
              "    </tr>\n",
              "    <tr>\n",
              "      <th>8533</th>\n",
              "      <td>4.0</td>\n",
              "    </tr>\n",
              "    <tr>\n",
              "      <th>40629</th>\n",
              "      <td>5.0</td>\n",
              "    </tr>\n",
              "    <tr>\n",
              "      <th>40815</th>\n",
              "      <td>4.0</td>\n",
              "    </tr>\n",
              "    <tr>\n",
              "      <th>46578</th>\n",
              "      <td>4.0</td>\n",
              "    </tr>\n",
              "    <tr>\n",
              "      <th>48394</th>\n",
              "      <td>5.0</td>\n",
              "    </tr>\n",
              "    <tr>\n",
              "      <th>50872</th>\n",
              "      <td>5.0</td>\n",
              "    </tr>\n",
              "    <tr>\n",
              "      <th>68954</th>\n",
              "      <td>5.0</td>\n",
              "    </tr>\n",
              "    <tr>\n",
              "      <th>69844</th>\n",
              "      <td>4.5</td>\n",
              "    </tr>\n",
              "    <tr>\n",
              "      <th>79091</th>\n",
              "      <td>5.0</td>\n",
              "    </tr>\n",
              "    <tr>\n",
              "      <th>79132</th>\n",
              "      <td>4.0</td>\n",
              "    </tr>\n",
              "    <tr>\n",
              "      <th>81834</th>\n",
              "      <td>5.0</td>\n",
              "    </tr>\n",
              "    <tr>\n",
              "      <th>109487</th>\n",
              "      <td>4.5</td>\n",
              "    </tr>\n",
              "    <tr>\n",
              "      <th>112556</th>\n",
              "      <td>4.5</td>\n",
              "    </tr>\n",
              "    <tr>\n",
              "      <th>113741</th>\n",
              "      <td>3.0</td>\n",
              "    </tr>\n",
              "    <tr>\n",
              "      <th>134853</th>\n",
              "      <td>5.0</td>\n",
              "    </tr>\n",
              "    <tr>\n",
              "      <th>135518</th>\n",
              "      <td>3.5</td>\n",
              "    </tr>\n",
              "    <tr>\n",
              "      <th>135887</th>\n",
              "      <td>2.5</td>\n",
              "    </tr>\n",
              "  </tbody>\n",
              "</table>\n",
              "</div>"
            ],
            "text/plain": [
              "         rating\n",
              "movieId        \n",
              "260         5.0\n",
              "318         5.0\n",
              "356         5.0\n",
              "595         4.5\n",
              "858         3.0\n",
              "915         4.0\n",
              "1097        3.5\n",
              "2324        5.0\n",
              "2858        4.0\n",
              "4306        4.5\n",
              "5618        5.0\n",
              "5995        5.0\n",
              "8368        4.0\n",
              "8533        4.0\n",
              "40629       5.0\n",
              "40815       4.0\n",
              "46578       4.0\n",
              "48394       5.0\n",
              "50872       5.0\n",
              "68954       5.0\n",
              "69844       4.5\n",
              "79091       5.0\n",
              "79132       4.0\n",
              "81834       5.0\n",
              "109487      4.5\n",
              "112556      4.5\n",
              "113741      3.0\n",
              "134853      5.0\n",
              "135518      3.5\n",
              "135887      2.5"
            ]
          },
          "execution_count": 20,
          "metadata": {},
          "output_type": "execute_result"
        }
      ],
      "source": [
        "# Extraindo as avaliações do userId 4\n",
        "user_ratings(4)"
      ]
    },
    {
      "cell_type": "code",
      "execution_count": 21,
      "metadata": {
        "id": "BmOGNgVgXsgG"
      },
      "outputs": [],
      "source": [
        "# Definindo uma função que extraia as avaliações de dois userIds informados, junte-os em um mesmo\n",
        "# dataframe e calcule a distância euclidiana entre eles\n",
        "\n",
        "def euclidean_distance(userId1,userId2):\n",
        "    userId1_ratings = user_ratings(userId1)\n",
        "    userId2_ratings = user_ratings(userId2)\n",
        "    join_df = userId1_ratings.join(userId2_ratings, lsuffix = '_user1',\n",
        "                                  rsuffix = '_user2').dropna()\n",
        "    distance_users = distance(join_df.rating_user1,join_df.rating_user2)\n",
        "    return print(f'A distância entre o usuário {userId1} e {userId2} é {distance_users}')"
      ]
    },
    {
      "cell_type": "code",
      "execution_count": 22,
      "metadata": {
        "colab": {
          "base_uri": "https://localhost:8080/"
        },
        "id": "u8RBvKiPXwu1",
        "outputId": "4c2157ea-023c-4e18-954c-af49bf56aa6d"
      },
      "outputs": [
        {
          "name": "stdout",
          "output_type": "stream",
          "text": [
            "A distância entre o usuário 1 e 4 é 1.32\n"
          ]
        }
      ],
      "source": [
        "# Calculando a distância entre o userId 1 e userId 4\n",
        "euclidean_distance(1,4)"
      ]
    },
    {
      "cell_type": "markdown",
      "metadata": {
        "id": "EgALHfGfX6Qd"
      },
      "source": [
        "# **4. Algoritmo K-Nearest Neighbors**\n",
        "\n",
        "O K-nearest neighbors, podendo ser chamado também de 'K-vizinhos mais próximos' é um algoritmo de machine learning muito usado para realizar classificações.\n",
        "Supondo que tenhamos o seguinte conjunto de dados, dividido em duas classes: azul e vermelho, e temos um dado específico que não está classificado, identificado pela cor verde na imagem abaixo:\n",
        "knn.jpg\n",
        "O algoritmo KNN é utilizado para calcular as distâncias entre este dado não-categorizado com os K-vizinhos mais próximos, ou seja, os vizinhos cuja distância sejam menores.\n",
        "No caso da imagem acima, se informarmos o parâmetro K = 3, o algoritmo irá calcular a distância entre o dado não-categorizado com os três dados categorizados mais próximos e, neste caso, irá categorizar o dado verde como sendo pertencente à classe vermelha."
      ]
    },
    {
      "cell_type": "markdown",
      "metadata": {
        "id": "SAVST85oYkqR"
      },
      "source": [
        "<img src=\"../images/KNN2.png\">"
      ]
    },
    {
      "cell_type": "markdown",
      "metadata": {
        "id": "iI6S7erRdmLL"
      },
      "source": [
        "O algoritmo KNN é utilizado para calcular as distâncias entre este dado não-categorizado com os K-vizinhos mais próximos, ou seja, os vizinhos cuja distância sejam menores.\n",
        "No caso da imagem acima, se informarmos o parâmetro K = 3, o algoritmo irá calcular a distância entre o dado não-categorizado com os três dados categorizados mais próximos e, neste caso, irá categorizar o dado verde como sendo pertencente à classe vermelha."
      ]
    },
    {
      "cell_type": "markdown",
      "metadata": {
        "id": "1N3DTkNpd0d0"
      },
      "source": [
        "**(Insira aqui a imagem knn.jpg)**"
      ]
    },
    {
      "cell_type": "markdown",
      "metadata": {},
      "source": [
        "<img src=\"../images/image.png\">"
      ]
    },
    {
      "cell_type": "markdown",
      "metadata": {
        "id": "Xnj3HvSBeA_C"
      },
      "source": [
        "A distância euclidiana é uma das mais usadas no algoritmo KNN para calcular a distância entre dados de um conjunto e, utilizando as funções anteriores criadas neste estudo, podemos definir novas funções, construindo um algoritmo KNN do zero, para identificar usuários com gostos similares em nosso dataset e recomendar filmes se baseando no grau de proximidade entre eles."
      ]
    },
    {
      "cell_type": "code",
      "execution_count": 23,
      "metadata": {
        "id": "X4v7Mbp3d71K"
      },
      "outputs": [],
      "source": [
        "# Refinando a função euclidean_distance() para filtrar usuários que sejam muito distantes, ou\n",
        "# usuários que não tenham nenhum filme em comum avaliados.\n",
        "# 'minimum' se refere a quantidade mínima de filmes avaliados entre usuários diferentes\n",
        "def euclidean_distance(userId1,userId2, minimum = 5):\n",
        "    userId1_ratings = user_ratings(userId1)\n",
        "    userId2_ratings = user_ratings(userId2)\n",
        "    join_df = userId1_ratings.join(userId2_ratings, lsuffix = '_user1',\n",
        "                                  rsuffix = '_user2').dropna()\n",
        "\n",
        "    if(len(join_df) < minimum):\n",
        "        return None\n",
        "\n",
        "    distance_users = distance(join_df.rating_user1,join_df.rating_user2)\n",
        "    return [userId1, userId2, distance_users]"
      ]
    },
    {
      "cell_type": "code",
      "execution_count": 24,
      "metadata": {
        "id": "8Bb7PbpHaVka"
      },
      "outputs": [],
      "source": [
        "# Definindo função que faça o cálculo da distância de diversos usuários\n",
        "# Considerando que há um número muito alto de usuários, o parâmetro users_to_verify pode ser\n",
        "# usado para definir o número de usuários que serão verificados para calcular a distância dentro\n",
        "# do dataframe.\n",
        "# ex: se users_to_verify = 50, apenas os 50 primeiros usuários do dataframe serão verificados\n",
        "def distance_from_all(informed_user, users_to_verify = None):\n",
        "    all_users = ratings.index.unique()\n",
        "    if users_to_verify:\n",
        "        all_users = all_users[:users_to_verify]\n",
        "    distance_all_users = [euclidean_distance(informed_user,userId) for userId in all_users]\n",
        "    distance_all_users = list(filter(None, distance_all_users))\n",
        "    distance_all_users = pd.DataFrame(distance_all_users, columns = ['informed_user','others','distance'])\n",
        "    return distance_all_users"
      ]
    },
    {
      "cell_type": "code",
      "execution_count": 25,
      "metadata": {
        "id": "V_pz-pc4eOS4"
      },
      "outputs": [],
      "source": [
        "# Definindo função que calcule a distância dos K-vizinhos mais próximos\n",
        "# k_nearest_neighbors é o parâmetro que deve ser dado para informar quais vizinhos mais próximos\n",
        "# serão analizados. Por padrão, o algoritmo irá verificar apenas os 10 vizinhos mais próxmos, ou\n",
        "# seja, os 10 usuários mais similares ao usuário informado\n",
        "def knn(informed_user, k_nearest_neighbors = 10, users_to_verify = None):\n",
        "    distance_users = distance_from_all(informed_user, users_to_verify = users_to_verify)\n",
        "    distance_users = distance_users.sort_values('distance')\n",
        "    distance_users = distance_users.set_index('others').drop(informed_user, errors = 'ignore')\n",
        "    return distance_users.head(k_nearest_neighbors)"
      ]
    },
    {
      "cell_type": "code",
      "execution_count": 26,
      "metadata": {
        "id": "RNzfNTv-eR7B"
      },
      "outputs": [],
      "source": [
        "# Definindo função de sugestões\n",
        "def suggestions_for_user(informed_user, k_nearest_neighbors = 10, users_to_verify = None):\n",
        "    informed_user_ratings = user_ratings(informed_user)\n",
        "    movies_seen_by_informed_user = informed_user_ratings.index\n",
        "\n",
        "    similar = knn(informed_user, k_nearest_neighbors=k_nearest_neighbors,users_to_verify=users_to_verify)\n",
        "    similar_users = similar.index\n",
        "    similar_users_ratings = ratings.loc[similar_users]\n",
        "    recommendations = round(similar_users_ratings.groupby('movieId').mean()[['rating']], 2)\n",
        "    fequency = similar_users_ratings.groupby('movieId').count()[['rating']]\n",
        "\n",
        "   #minimum_filter cria um filtro para mostrar apenas títulos que tenham sido avaliados por,\n",
        "   # no mínimo, a metade dos k-vizinhos mais próximos\n",
        "    minimum_filter = k_nearest_neighbors / 2\n",
        "    recommendations = recommendations.join(fequency, lsuffix = '_mean_others',rsuffix='_frequency_others')\n",
        "    recommendations = recommendations.query('rating_frequency_others >= %.2f' % minimum_filter)\n",
        "    recommendations = recommendations.sort_values('rating_mean_others', ascending = False)\n",
        "    recommendations = recommendations.drop(movies_seen_by_informed_user, errors = 'ignore')\n",
        "    return recommendations.join(movies)"
      ]
    },
    {
      "cell_type": "code",
      "execution_count": 27,
      "metadata": {
        "colab": {
          "base_uri": "https://localhost:8080/",
          "height": 174
        },
        "id": "RqxTzI8NeW-M",
        "outputId": "75e8ab5e-1dff-4090-85ee-9d471ec10370"
      },
      "outputs": [
        {
          "data": {
            "text/html": [
              "<div>\n",
              "<style scoped>\n",
              "    .dataframe tbody tr th:only-of-type {\n",
              "        vertical-align: middle;\n",
              "    }\n",
              "\n",
              "    .dataframe tbody tr th {\n",
              "        vertical-align: top;\n",
              "    }\n",
              "\n",
              "    .dataframe thead th {\n",
              "        text-align: right;\n",
              "    }\n",
              "</style>\n",
              "<table border=\"1\" class=\"dataframe\">\n",
              "  <thead>\n",
              "    <tr style=\"text-align: right;\">\n",
              "      <th></th>\n",
              "      <th>rating_mean_others</th>\n",
              "      <th>rating_frequency_others</th>\n",
              "      <th>title</th>\n",
              "      <th>genres</th>\n",
              "      <th>number_of_ratings</th>\n",
              "      <th>average_ratings</th>\n",
              "    </tr>\n",
              "    <tr>\n",
              "      <th>movieId</th>\n",
              "      <th></th>\n",
              "      <th></th>\n",
              "      <th></th>\n",
              "      <th></th>\n",
              "      <th></th>\n",
              "      <th></th>\n",
              "    </tr>\n",
              "  </thead>\n",
              "  <tbody>\n",
              "    <tr>\n",
              "      <th>318</th>\n",
              "      <td>4.3</td>\n",
              "      <td>5</td>\n",
              "      <td>Shawshank Redemption, The (1994)</td>\n",
              "      <td>Crime|Drama</td>\n",
              "      <td>122296.0</td>\n",
              "      <td>4.42</td>\n",
              "    </tr>\n",
              "    <tr>\n",
              "      <th>858</th>\n",
              "      <td>4.3</td>\n",
              "      <td>5</td>\n",
              "      <td>Godfather, The (1972)</td>\n",
              "      <td>Crime|Drama</td>\n",
              "      <td>75004.0</td>\n",
              "      <td>4.33</td>\n",
              "    </tr>\n",
              "    <tr>\n",
              "      <th>2858</th>\n",
              "      <td>4.0</td>\n",
              "      <td>5</td>\n",
              "      <td>American Beauty (1999)</td>\n",
              "      <td>Drama|Romance</td>\n",
              "      <td>69902.0</td>\n",
              "      <td>4.10</td>\n",
              "    </tr>\n",
              "  </tbody>\n",
              "</table>\n",
              "</div>"
            ],
            "text/plain": [
              "         rating_mean_others  rating_frequency_others  \\\n",
              "movieId                                                \n",
              "318                     4.3                        5   \n",
              "858                     4.3                        5   \n",
              "2858                    4.0                        5   \n",
              "\n",
              "                                    title         genres  number_of_ratings  \\\n",
              "movieId                                                                       \n",
              "318      Shawshank Redemption, The (1994)    Crime|Drama           122296.0   \n",
              "858                 Godfather, The (1972)    Crime|Drama            75004.0   \n",
              "2858               American Beauty (1999)  Drama|Romance            69902.0   \n",
              "\n",
              "         average_ratings  \n",
              "movieId                   \n",
              "318                 4.42  \n",
              "858                 4.33  \n",
              "2858                4.10  "
            ]
          },
          "execution_count": 27,
          "metadata": {},
          "output_type": "execute_result"
        }
      ],
      "source": [
        "# Testando as recomendações para o usuário 1, analizando os primeiros 500 usuários do dataframe\n",
        "# Por definição, os k-vizinhos mais próximos dos 500 primeiros usuários são os 10 usuários\n",
        "# mais próximos cujas avaliações serão relevantes para a recomendação.\n",
        "#head(10) exibe os dez filmes ordenados pela avaliação média dos K-Vizinhos mais próximos.\n",
        "suggestions_for_user(1,users_to_verify=500).head(10)"
      ]
    },
    {
      "cell_type": "markdown",
      "metadata": {
        "id": "0Mb4Xg8uesBP"
      },
      "source": [
        "# **OBSERVAÇÃO**\n",
        "\n",
        "A função suggestion_for_user recebe como parâmetro o userId do usuário que desejamos recomendar os filmes, os k-vizinhos mais próximos - k_nearest_neighbors(10 por padrão) e a quantidade de usuários para terem suas distâncias calculadas dentro do dataset -users_to_verify(por padrão, todo o dataset é incluído).\n",
        "O dataframe de recomendações recebeu duas novas colunas, sendo elas a rating_mean_others, que representa a média de avaliações dos k-vizinhos mais próximos, e rating_frequency_others, que mostra quantos usuários, dentre os k-vizinhos, avaliaram aquele filme.\n",
        "O dataframe também é organizado pela média das avaliações dos k-vizinhos, em ordem decrescente, e a frequência mínima estabelecida para que o filme seja recomendado é de 5, ou seja, ele deve ter sido avaliado por ao menos metade dos k-vizinhos selecionados.\n",
        "Neste contexto, calculando as distâncias de 500 usuários, encontrando os mais similares ao userID 1 de acordo com suas próprias avaliações, os dez filmes não vistos pelos userId 1 que podemos recomendar a ele são os listados na célula anerior."
      ]
    },
    {
      "cell_type": "markdown",
      "metadata": {},
      "source": [
        "## 🧮 3. Número médio de gêneros por filme\n",
        "Calcular a média de gêneros atribuídos a cada filme."
      ]
    },
    {
      "cell_type": "code",
      "execution_count": 28,
      "metadata": {},
      "outputs": [
        {
          "data": {
            "image/png": "[encoded data removed]",
            "text/plain": [
              "<Figure size 1000x600 with 1 Axes>"
            ]
          },
          "metadata": {},
          "output_type": "display_data"
        }
      ],
      "source": [
        "movies['genres_list'] = movies['genres'].str.split('|')\n",
        "all_genres = movies['genres_list'].explode()\n",
        "\n",
        "genre_counts = all_genres.value_counts()\n",
        "top_10_genres = genre_counts.head(10)\n",
        "\n",
        "plt.figure(figsize=(10, 6))\n",
        "top_10_genres.plot(kind='bar', color='skyblue')\n",
        "plt.title('Top 10 Gêneros Mais Frequentes')\n",
        "plt.xlabel('Gênero')\n",
        "plt.ylabel('Quantidade de Filmes')\n",
        "plt.xticks(rotation=45)\n",
        "plt.grid(axis='y', linestyle='--', alpha=0.7)\n",
        "plt.tight_layout()\n",
        "plt.show()"
      ]
    },
    {
      "cell_type": "code",
      "execution_count": 29,
      "metadata": {},
      "outputs": [
        {
          "data": {
            "image/png": "[encoded data removed]",
            "text/plain": [
              "<Figure size 800x500 with 1 Axes>"
            ]
          },
          "metadata": {},
          "output_type": "display_data"
        }
      ],
      "source": [
        "genre_per_movie = movies['genres_list'].apply(len)\n",
        "\n",
        "plt.figure(figsize=(8, 5))\n",
        "plt.hist(genre_per_movie, bins=range(1, genre_per_movie.max() + 2), color='orange', edgecolor='black')\n",
        "plt.title('Distribuição da Quantidade de Gêneros por Filme')\n",
        "plt.xlabel('Número de Gêneros')\n",
        "plt.ylabel('Número de Filmes')\n",
        "plt.xticks(range(1, genre_per_movie.max() + 1))\n",
        "plt.grid(axis='y', linestyle='--', alpha=0.7)\n",
        "plt.tight_layout()\n",
        "plt.show()"
      ]
    },
    {
      "cell_type": "code",
      "execution_count": 30,
      "metadata": {},
      "outputs": [
        {
          "data": {
            "image/png": "[encoded data removed]",
            "text/plain": [
              "<Figure size 800x500 with 1 Axes>"
            ]
          },
          "metadata": {},
          "output_type": "display_data"
        }
      ],
      "source": [
        "df = ratings.merge(movies, on='movieId')\n",
        "\n",
        "plt.figure(figsize=(8,5))\n",
        "df['rating'].hist(bins=9, edgecolor='black', color='skyblue')\n",
        "plt.title('Distribuição das Avaliações')\n",
        "plt.xlabel('Nota')\n",
        "plt.ylabel('Quantidade')\n",
        "plt.grid(axis='y', linestyle='--', alpha=0.7)\n",
        "plt.show()"
      ]
    },
    {
      "cell_type": "code",
      "execution_count": 31,
      "metadata": {},
      "outputs": [],
      "source": [
        "movie_stats = df.groupby(['movieId', 'title']).agg(\n",
        "    nota_media=('rating', 'mean'),\n",
        "    num_avaliacoes=('rating', 'count')\n",
        ").reset_index()"
      ]
    },
    {
      "cell_type": "code",
      "execution_count": 32,
      "metadata": {},
      "outputs": [],
      "source": [
        "min_avaliacoes = 100\n",
        "top_filmes = movie_stats[movie_stats['num_avaliacoes'] >= min_avaliacoes] \\\n",
        "    .sort_values(by='nota_media', ascending=False).head(10)"
      ]
    },
    {
      "cell_type": "code",
      "execution_count": 33,
      "metadata": {},
      "outputs": [
        {
          "name": "stdout",
          "output_type": "stream",
          "text": [
            "Top 10 filmes mais bem avaliados (mínimo de 100 avaliações):\n",
            "                                  title  nota_media  num_avaliacoes\n",
            "44214            Planet Earth II (2016)    4.451739            2041\n",
            "39322               Planet Earth (2006)    4.448093            3015\n",
            "44066           Band of Brothers (2001)    4.423986            2835\n",
            "314    Shawshank Redemption, The (1994)    4.416792          122296\n",
            "44440                            Cosmos    4.343200             625\n",
            "58750                   Parasite (2019)    4.329946           12399\n",
            "840               Godfather, The (1972)    4.326603           75004\n",
            "47999             Blue Planet II (2017)    4.312944            1267\n",
            "65984           Twelve Angry Men (1954)    4.305723             332\n",
            "56804                 Twin Peaks (1989)    4.302562            1132\n"
          ]
        }
      ],
      "source": [
        "print(\"Top 10 filmes mais bem avaliados (mínimo de 100 avaliações):\")\n",
        "print(top_filmes[['title', 'nota_media', 'num_avaliacoes']])"
      ]
    },
    {
      "cell_type": "markdown",
      "metadata": {},
      "source": [
        "### Top 10 Filmes Mais Populares"
      ]
    },
    {
      "cell_type": "code",
      "execution_count": 34,
      "metadata": {},
      "outputs": [
        {
          "data": {
            "image/png": "[encoded data removed]",
            "text/plain": [
              "<Figure size 1000x600 with 1 Axes>"
            ]
          },
          "metadata": {},
          "output_type": "display_data"
        }
      ],
      "source": [
        "mais_populares = movie_stats.sort_values(by='num_avaliacoes', ascending=False).head(10)\n",
        "\n",
        "plt.figure(figsize=(10,6))\n",
        "plt.barh(mais_populares['title'], mais_populares['num_avaliacoes'], color='orange')\n",
        "plt.xlabel('Número de Avaliações')\n",
        "plt.title('Top 10 Filmes Mais Populares')\n",
        "plt.gca().invert_yaxis()\n",
        "plt.tight_layout()\n",
        "plt.show()"
      ]
    }
  ],
  "metadata": {
    "colab": {
      "provenance": []
    },
    "kernelspec": {
      "display_name": ".venv",
      "language": "python",
      "name": "python3"
    },
    "language_info": {
      "codemirror_mode": {
        "name": "ipython",
        "version": 3
      },
      "file_extension": ".py",
      "mimetype": "text/x-python",
      "name": "python",
      "nbconvert_exporter": "python",
      "pygments_lexer": "ipython3",
      "version": "3.12.9"
    }
  },
  "nbformat": 4,
  "nbformat_minor": 0
}
